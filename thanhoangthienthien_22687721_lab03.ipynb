{
 "cells": [
  {
   "cell_type": "markdown",
   "metadata": {
    "id": "Cj3g7_Xjv0cQ"
   },
   "source": [
    "# Lab 03 - Bài tập"
   ]
  },
  {
   "cell_type": "markdown",
   "metadata": {},
   "source": [
    "## THÔNG TIN SINH VIÊN\n",
    "\n",
    "- Họ tên: Thân Hoàng Thiên Thiên\n",
    "- MSSV: 22687721\n",
    "\n",
    "\n",
    "Sinh viên ghi số bài làm được vào ô dưới đây:"
   ]
  },
  {
   "cell_type": "markdown",
   "metadata": {},
   "source": [
    "## KẾT QUẢ: 10/10 bài\n",
    "\n",
    "---"
   ]
  },
  {
   "cell_type": "code",
   "execution_count": null,
   "metadata": {
    "id": "AnQZ06Hxxwlo"
   },
   "outputs": [],
   "source": [
    "# YOUR CODE HERE"
   ]
  },
  {
   "cell_type": "markdown",
   "metadata": {
    "id": "uHya_O8Nv9Bg"
   },
   "source": [
    "## XÁC SUẤT\n",
    "\n",
    "### Bài 1: Kiểm soát Chất lượng Sản xuất\n",
    "\n",
    "TÌNH HUỐNG: Một nhà máy có hai dây chuyền sản xuất:\n",
    "\n",
    "- Dây chuyền A: Chiếm 70% tổng sản lượng, tỷ lệ lỗi 3%\n",
    "\n",
    "- Dây chuyền B: Chiếm 30% tổng sản lượng, tỷ lệ lỗi 7%\n",
    "\n",
    "YÊU CẦU:\n",
    "\n",
    "a) Tính tỷ lệ lỗi chung?\n",
    "\n",
    "b) Xác suất một sản phẩm là đạt?\n",
    "\n",
    "c) Dây chuyền sản xuất và chất lượng có độc lập không?\n",
    "\n",
    "d) Nếu chọn ngẫu nhiên 2 sản phẩm, P(cả hai đều đạt) là bao nhiêu?"
   ]
  },
  {
   "cell_type": "code",
   "execution_count": null,
   "metadata": {},
   "outputs": [
    {
     "name": "stdout",
     "output_type": "stream",
     "text": [
      "a) Tỷ lệ lỗi chung: 0.0420\n",
      "b) Xác suất một sản phẩm là đạt: 0.9580\n",
      "c) Dây chuyền và chất lượng có độc lập không? Không\n",
      "d) P(cả hai đều đạt: 0.9178\n"
     ]
    }
   ],
   "source": [
    "# YOUR CODE HERE\n",
    "# Dữ liệu đầu vào\n",
    "ty_le_A = 0.7\n",
    "ty_le_B = 0.3\n",
    "loi_A = 0.03\n",
    "loi_B = 0.07\n",
    "\n",
    "# a) Tỷ lệ lỗi chung\n",
    "ty_le_loi_chung = ty_le_A * loi_A + ty_le_B * loi_B\n",
    "print(f\"a) Tỷ lệ lỗi chung: {ty_le_loi_chung:.4f}\")\n",
    "\n",
    "# b) Xác suất một sản phẩm là đạt\n",
    "ty_le_dat_chung = 1 - ty_le_loi_chung\n",
    "print(f\"b) Xác suất một sản phẩm là đạt: {ty_le_dat_chung:.4f}\")\n",
    "\n",
    "# c) Kiểm tra tính độc lập\n",
    "ty_le_dat_A = 1 - loi_A\n",
    "doc_lap = (ty_le_dat_A == ty_le_dat_chung)\n",
    "print(f\"c) Dây chuyền và chất lượng có độc lập không? {'Có' if doc_lap else 'Không'}\")\n",
    "\n",
    "# d) P(cả 2 đều đạt)\n",
    "p_cahai_dat = ty_le_dat_chung ** 2\n",
    "print(f\"d) P(cả hai đều đạt: {p_cahai_dat:.4f}\")"
   ]
  },
  {
   "cell_type": "markdown",
   "metadata": {},
   "source": [
    "### Bài 2: Chọn Nhóm Dự án\n",
    "\n",
    "TÌNH HUỐNG: Một công ty cần chọn nhóm dự án 4 người từ: 8 Kỹ sư, 6 Quản lý, 4 Chuyên viên phân tích.\n",
    "\n",
    "YÊU CẦU:\n",
    "\n",
    "a) Có bao nhiêu cách chọn bất kỳ 4 người?\n",
    "\n",
    "b) Có bao nhiêu cách chọn 2 kỹ sư và 2 quản lý?\n",
    "\n",
    "c) Xác suất nhóm có ít nhất một chuyên viên phân tích?\n",
    "\n",
    "d) Xác suất nhóm có đúng một người từ mỗi bộ phận cộng thêm một kỹ sư?"
   ]
  },
  {
   "cell_type": "code",
   "execution_count": null,
   "metadata": {},
   "outputs": [
    {
     "name": "stdout",
     "output_type": "stream",
     "text": [
      "a) Số cách chọn bất kỳ 4 người: 3060\n",
      "b) Số cách chọn 2 kỹ sư và 2 quản lý: 420\n",
      "c) Xác suất nhóm có ít nhất một chuyên viên phân tích: 0.6729\n",
      "d) Xác suất nhóm có đúng một người mỗi bộ phận cộng thêm một kỹ sư: 0.4392\n"
     ]
    }
   ],
   "source": [
    "# YOUR CODE HERE\n",
    "import math\n",
    "\n",
    "# Hàm tính tổ hợp C(n, k)\n",
    "def to_hop(n, k):\n",
    "    return math.comb(n, k)\n",
    "\n",
    "# Số lượng từng bộ phận\n",
    "so_ky_su = 8\n",
    "so_quan_ly = 6\n",
    "so_chuyen_vien = 4\n",
    "tong_so_nguoi = so_ky_su + so_quan_ly + so_chuyen_vien\n",
    "\n",
    "# a) Số cách chọn bất kỳ 4 người\n",
    "cach_chon_4_bat_ky = to_hop(tong_so_nguoi, 4)\n",
    "print(f\"a) Số cách chọn bất kỳ 4 người: {cach_chon_4_bat_ky}\")\n",
    "\n",
    "# b) Số cách chọn 2 kỹ sư và 2 quản lý\n",
    "cach_chon_2_ky_su_2_quan_ly = to_hop(so_ky_su, 2) * to_hop(so_quan_ly, 2)\n",
    "print(f\"b) Số cách chọn 2 kỹ sư và 2 quản lý: {cach_chon_2_ky_su_2_quan_ly}\")\n",
    "\n",
    "# c) Xác suất nhóm có ít nhất một chuyên viên phân tích\n",
    "# Tính số cách chọn nhóm không có chuyên viên phân tích (chọn 4 người từ kỹ sư và quản lý)\n",
    "so_nguoi_khong_cvpt = so_ky_su + so_quan_ly\n",
    "cach_chon_khong_cvpt = to_hop(so_nguoi_khong_cvpt, 4)\n",
    "xac_suat_khong_cvpt = cach_chon_khong_cvpt / cach_chon_4_bat_ky\n",
    "xac_suat_co_it_nhat_1_cvpt = 1 - xac_suat_khong_cvpt\n",
    "print(f\"c) Xác suất nhóm có ít nhất một chuyên viên phân tích: {xac_suat_co_it_nhat_1_cvpt:.4f}\")\n",
    "\n",
    "# d) Xác suất nhóm có đúng một người từ mỗi bộ phận cộng thêm một kỹ sư nữa\n",
    "# Chọn 1 kỹ sư, 1 quản lý, 1 chuyên viên phân tích, rồi thêm 1 kỹ sư nữa từ số kỹ sư còn lại (8 - 1 = 7)\n",
    "cach_chon_1_moi_bo_phan = to_hop(so_ky_su, 1) * to_hop(so_quan_ly, 1) * to_hop(so_chuyen_vien, 1)\n",
    "cach_chon_1_ky_su_them = to_hop(so_ky_su - 1, 1)\n",
    "cach_chon_d = cach_chon_1_moi_bo_phan * cach_chon_1_ky_su_them\n",
    "xac_suat_d = cach_chon_d / cach_chon_4_bat_ky\n",
    "print(f\"d) Xác suất nhóm có đúng một người mỗi bộ phận cộng thêm một kỹ sư: {xac_suat_d:.4f}\")"
   ]
  },
  {
   "cell_type": "markdown",
   "metadata": {},
   "source": [
    "### Bài 3: Phân tích Hành vi Mua hàng của Khách hàng\n",
    "\n",
    "TÌNH HUỐNG: Dữ liệu mua hàng của khách hàng:\n",
    "\n",
    "| Nhóm tuổi | Sản phẩm Cao cấp | Sản phẩm Tiêu chuẩn | Tổng |\n",
    "| --------- | ---------------- | ------------------- | ---- |\n",
    "| 18-30     | 0.15             | 0.25                | 0.40 |\n",
    "| 31-50     | 0.25             | 0.20                | 0.45 |\n",
    "| 51+       | 0.10             | 0.05                | 0.15 |\n",
    "\n",
    "YÊU CẦU:\n",
    "\n",
    "a) P(Mua sản phẩm cao cấp)?\n",
    "\n",
    "b) P(Nhóm tuổi 31-50)?\n",
    "\n",
    "c) P(Cao cấp | Tuổi 31-50)?\n",
    "\n",
    "d) P(Tuổi 31-50 | Cao cấp)?\n",
    "\n",
    "e) Nhóm tuổi và loại sản phẩm có độc lập không?"
   ]
  },
  {
   "cell_type": "code",
   "execution_count": 4,
   "metadata": {},
   "outputs": [
    {
     "name": "stdout",
     "output_type": "stream",
     "text": [
      "a) P(Mua sản phẩm cao cấp) = 0.5000\n",
      "b) P(Nhóm tuổi 31-50) = 0.4500\n",
      "c) P(Cao cấp | Tuổi 31-50) = 0.5556\n",
      "d) P(Tuổi 31-50 | Cao cấp) = 0.5000\n",
      "e) Nhóm tuổi và loại sản phẩm có độc lập không? Không\n"
     ]
    }
   ],
   "source": [
    "# YOUR CODE HERE\n",
    "# Dữ liệu\n",
    "p_cao_cap_1830 = 0.15\n",
    "p_tieu_chuan_1830 = 0.25\n",
    "p_1830 = 0.40\n",
    "\n",
    "p_cao_cap_3150 = 0.25\n",
    "p_tieu_chuan_3150 = 0.20\n",
    "p_3150 = 0.45\n",
    "\n",
    "p_cao_cap_51 = 0.10\n",
    "p_tieu_chuan_51 = 0.05\n",
    "p_51 = 0.15\n",
    "\n",
    "# a) P(Mua sản phẩm cao cấp)\n",
    "p_cao_cap = p_cao_cap_1830 + p_cao_cap_3150 + p_cao_cap_51\n",
    "print(f\"a) P(Mua sản phẩm cao cấp) = {p_cao_cap:.4f}\")\n",
    "\n",
    "# b) P(Nhóm tuổi 31-50)\n",
    "print(f\"b) P(Nhóm tuổi 31-50) = {p_3150:.4f}\")\n",
    "\n",
    "# c) P(Cao cấp | Tuổi 31-50)\n",
    "p_cao_cap_given_3150 = p_cao_cap_3150 / p_3150\n",
    "print(f\"c) P(Cao cấp | Tuổi 31-50) = {p_cao_cap_given_3150:.4f}\")\n",
    "\n",
    "# d) P(Tuổi 31-50 | Cao cấp)\n",
    "p_3150_given_cao_cap = p_cao_cap_3150 / p_cao_cap\n",
    "print(f\"d) P(Tuổi 31-50 | Cao cấp) = {p_3150_given_cao_cap:.4f}\")\n",
    "\n",
    "# e) Kiểm tra độc lập\n",
    "# Lấy ví dụ với nhóm 18-30\n",
    "p_cao_cap_1830_theo_doc_lap = p_cao_cap * p_1830\n",
    "doc_lap = (abs(p_cao_cap_1830 - p_cao_cap_1830_theo_doc_lap) < 1e-6)\n",
    "print(f\"e) Nhóm tuổi và loại sản phẩm có độc lập không? {'Có' if doc_lap else 'Không'}\")\n"
   ]
  },
  {
   "cell_type": "markdown",
   "metadata": {},
   "source": [
    "### Bài 4: Rủi ro Chuỗi Cung ứng\n",
    "\n",
    "TÌNH HUỐNG: Công ty lấy nguyên liệu từ 3 nhà cung cấp:\n",
    "\n",
    "A: 50% nguyên liệu, 2% chậm trễ\n",
    "\n",
    "B: 30% nguyên liệu, 5% chậm trễ\n",
    "\n",
    "C: 20% nguyên liệu, 8% chậm trễ\n",
    "\n",
    "YÊU CẦU:\n",
    "a) Xác suất tổng thể bị chậm trễ?\n",
    "\n",
    "b) Nếu có chậm trễ, khả năng do nhà cung cấp nào cao nhất?\n",
    "\n",
    "c) P(giao hàng đúng hạn từ cả 3) nếu đặt hàng từ mỗi nhà cung cấp?\n",
    "\n"
   ]
  },
  {
   "cell_type": "code",
   "execution_count": 5,
   "metadata": {},
   "outputs": [
    {
     "name": "stdout",
     "output_type": "stream",
     "text": [
      "a) Xác suất tổng thể bị chậm trễ: 0.0410\n",
      "b) Xác suất chậm trễ do từng nhà cung cấp:\n",
      "Nhà cung cấp  P(nhà cung cấp|chậm trễ)\n",
      "           A                  0.243902\n",
      "           B                  0.365854\n",
      "           C                  0.390244\n",
      "-> Nhà cung cấp có khả năng gây chậm trễ cao nhất: C\n",
      "c) Xác suất giao hàng đúng hạn từ cả 3 nhà cung cấp: 0.8565\n"
     ]
    }
   ],
   "source": [
    "# YOUR CODE HERE\n",
    "import pandas as pd\n",
    "\n",
    "# Tạo DataFrame chứa dữ liệu nhà cung cấp\n",
    "df = pd.DataFrame({\n",
    "    'Nhà cung cấp': ['A', 'B', 'C'],\n",
    "    'Tỷ lệ nguyên liệu': [0.5, 0.3, 0.2],\n",
    "    'Xác suất chậm trễ': [0.02, 0.05, 0.08]\n",
    "})\n",
    "\n",
    "# a) Tính xác suất tổng thể bị chậm trễ\n",
    "def tinh_xac_suat_cham_tre(df):\n",
    "    return (df['Tỷ lệ nguyên liệu'] * df['Xác suất chậm trễ']).sum()\n",
    "\n",
    "p_cham_tre = tinh_xac_suat_cham_tre(df)\n",
    "print(f\"a) Xác suất tổng thể bị chậm trễ: {p_cham_tre:.4f}\")\n",
    "\n",
    "# b) Tính xác suất chậm trễ do từng nhà cung cấp theo Bayes\n",
    "def bayes_cham_tre(df, p_cham_tre):\n",
    "    df['P(chậm trễ|nhà cung cấp)'] = df['Xác suất chậm trễ']\n",
    "    df['P(nhà cung cấp)'] = df['Tỷ lệ nguyên liệu']\n",
    "    df['P(nhà cung cấp|chậm trễ)'] = (df['P(nhà cung cấp)'] * df['P(chậm trễ|nhà cung cấp)']) / p_cham_tre\n",
    "    return df[['Nhà cung cấp', 'P(nhà cung cấp|chậm trễ)']]\n",
    "\n",
    "df_bayes = bayes_cham_tre(df, p_cham_tre)\n",
    "print(\"b) Xác suất chậm trễ do từng nhà cung cấp:\")\n",
    "print(df_bayes.to_string(index=False))\n",
    "\n",
    "# Tìm nhà cung cấp có xác suất cao nhất gây chậm trễ\n",
    "max_ncc = df_bayes.loc[df_bayes['P(nhà cung cấp|chậm trễ)'].idxmax(), 'Nhà cung cấp']\n",
    "print(f\"-> Nhà cung cấp có khả năng gây chậm trễ cao nhất: {max_ncc}\")\n",
    "\n",
    "# c) Xác suất giao hàng đúng hạn từ cả 3 nhà cung cấp\n",
    "p_dung_han = ((1 - df['Xác suất chậm trễ']).prod())\n",
    "print(f\"c) Xác suất giao hàng đúng hạn từ cả 3 nhà cung cấp: {p_dung_han:.4f}\")\n"
   ]
  },
  {
   "cell_type": "markdown",
   "metadata": {},
   "source": [
    "### BÀI TẬP 5: Quyết định Ra mắt Sản phẩm\n",
    "\n",
    "TÌNH HUỐNG: Cây quyết định ra mắt sản phẩm:\n",
    "\n",
    "Giai đoạn 1 – Nghiên cứu thị trường: 70% tích cực, 30% tiêu cực\n",
    "\n",
    "Giai đoạn 2a – Nếu tích cực → Ra mắt: 80% thành công, 20% thất bại\n",
    "\n",
    "Giai đoạn 2b – Nếu tiêu cực → Không ra mắt (0% thành công)\n",
    "\n",
    "YÊU CẦU:\n",
    "\n",
    "a) P(sản phẩm thành công)?\n",
    "\n",
    "b) P(nghiên cứu tích cực | sản phẩm thành công)?\n",
    "\n",
    "c) Vẽ cây xác suất đầy đủ"
   ]
  },
  {
   "cell_type": "code",
   "execution_count": null,
   "metadata": {},
   "outputs": [
    {
     "name": "stdout",
     "output_type": "stream",
     "text": [
      "a) Xác suất sản phẩm thành công: 0.56\n",
      "b) P(nghiên cứu tích cực | sản phẩm thành công): 1.00\n"
     ]
    },
    {
     "data": {
      "image/png": "[encoded data removed]",
      "text/plain": [
       "<Figure size 1000x600 with 1 Axes>"
      ]
     },
     "metadata": {},
     "output_type": "display_data"
    }
   ],
   "source": [
    "# YOUR CODE HERE\n",
    "import matplotlib.pyplot as plt\n",
    "\n",
    "# Hàm tính xác suất sản phẩm thành công\n",
    "def tinh_xac_suat_thanh_cong():\n",
    "    p_tich_cuc = 0.7\n",
    "    p_tieu_cuc = 0.3\n",
    "    p_thanh_cong_tich_cuc = 0.8\n",
    "    p_thanh_cong_tieu_cuc = 0.0\n",
    "\n",
    "    p_thanh_cong = p_tich_cuc * p_thanh_cong_tich_cuc + p_tieu_cuc * p_thanh_cong_tieu_cuc\n",
    "    return p_thanh_cong\n",
    "\n",
    "# Hàm tính xác suất P(Nghiên cứu tích cực | Thành công)\n",
    "def bayes_tich_cuc_given_thanh_cong():\n",
    "    p_tich_cuc = 0.7\n",
    "    p_thanh_cong_tich_cuc = 0.8\n",
    "    p_thanh_cong = tinh_xac_suat_thanh_cong()\n",
    "\n",
    "    p = (p_thanh_cong_tich_cuc * p_tich_cuc) / p_thanh_cong\n",
    "    return p\n",
    "\n",
    "# Vẽ cây quyết định thủ công\n",
    "def ve_cay_quyet_dinh():\n",
    "    plt.figure(figsize=(10,6))\n",
    "    ax = plt.gca()\n",
    "    ax.axis('off')\n",
    "\n",
    "    # Vẽ nút gốc\n",
    "    plt.text(0.5, 0.9, \"Bắt đầu\", ha='center', va='center', fontsize=12, bbox=dict(boxstyle=\"round,pad=0.5\", fc=\"lightblue\"))\n",
    "\n",
    "    # Nút giai đoạn 1\n",
    "    plt.text(0.3, 0.7, \"Nghiên cứu tích cực\\nP=0.7\", ha='center', va='center', fontsize=11, bbox=dict(boxstyle=\"round,pad=0.5\", fc=\"lightgreen\"))\n",
    "    plt.text(0.7, 0.7, \"Nghiên cứu tiêu cực\\nP=0.3\", ha='center', va='center', fontsize=11, bbox=dict(boxstyle=\"round,pad=0.5\", fc=\"lightgreen\"))\n",
    "\n",
    "    # Nút giai đoạn 2 (tích cực)\n",
    "    plt.text(0.15, 0.5, \"Thành công\\nP=0.8\", ha='center', va='center', fontsize=10, bbox=dict(boxstyle=\"round,pad=0.5\", fc=\"lightcoral\"))\n",
    "    plt.text(0.45, 0.5, \"Thất bại\\nP=0.2\", ha='center', va='center', fontsize=10, bbox=dict(boxstyle=\"round,pad=0.5\", fc=\"lightcoral\"))\n",
    "\n",
    "    # Nút giai đoạn 2 (tiêu cực)\n",
    "    plt.text(0.7, 0.5, \"Không ra mắt\\nP=0.0\", ha='center', va='center', fontsize=10, bbox=dict(boxstyle=\"round,pad=0.5\", fc=\"lightcoral\"))\n",
    "\n",
    "    # Vẽ mũi tên\n",
    "    plt.arrow(0.5, 0.85, -0.18, -0.1, head_width=0.02, head_length=0.03, fc='k', ec='k')\n",
    "    plt.text(0.4, 0.78, \"0.7\", fontsize=9)\n",
    "\n",
    "    plt.arrow(0.5, 0.85, 0.18, -0.1, head_width=0.02, head_length=0.03, fc='k', ec='k')\n",
    "    plt.text(0.6, 0.78, \"0.3\", fontsize=9)\n",
    "\n",
    "    plt.arrow(0.3, 0.68, -0.13, -0.1, head_width=0.02, head_length=0.03, fc='k', ec='k')\n",
    "    plt.text(0.2, 0.6, \"0.8\", fontsize=9)\n",
    "\n",
    "    plt.arrow(0.3, 0.68, 0.12, -0.1, head_width=0.02, head_length=0.03, fc='k', ec='k')\n",
    "    plt.text(0.37, 0.6, \"0.2\", fontsize=9)\n",
    "\n",
    "    plt.arrow(0.7, 0.68, 0, -0.15, head_width=0.02, head_length=0.03, fc='k', ec='k')\n",
    "    plt.text(0.73, 0.55, \"1.0\", fontsize=9)\n",
    "\n",
    "    plt.title(\"Cây quyết định ra mắt sản phẩm\")\n",
    "    plt.show()\n",
    "\n",
    "# In kết quả\n",
    "print(f\"a) Xác suất sản phẩm thành công: {tinh_xac_suat_thanh_cong():.2f}\")\n",
    "print(f\"b) P(nghiên cứu tích cực | sản phẩm thành công): {bayes_tich_cuc_given_thanh_cong():.2f}\")\n",
    "\n",
    "# Vẽ cây\n",
    "ve_cay_quyet_dinh()"
   ]
  },
  {
   "cell_type": "markdown",
   "metadata": {},
   "source": [
    "---\n",
    "## ĐỊNH LÝ BAYES\n",
    "\n",
    "\n",
    "### BÀI TẬP 6: Xét nghiệm Y tế\n",
    "\n",
    "TÌNH HUỐNG: Xét nghiệm bệnh hiếm:\n",
    "\n",
    "- Tỷ lệ mắc: 0.5% dân số\n",
    "- Độ nhạy: 95%\n",
    "- Độ đặc hiệu: 98%\n",
    "\n",
    "YÊU CẦU:\n",
    "\n",
    "a) Nếu kết quả dương tính, P(có bệnh)?\n",
    "\n",
    "b) Nếu âm tính, P(khỏe mạnh)?\n",
    "\n",
    "c) Kết quả thay đổi thế nào nếu tỷ lệ mắc là 10%?"
   ]
  },
  {
   "cell_type": "code",
   "execution_count": null,
   "metadata": {},
   "outputs": [
    {
     "name": "stdout",
     "output_type": "stream",
     "text": [
      "Với tỷ lệ mắc 0.5%:\n",
      "- P(có bệnh khi test dương) = 0.1927\n",
      "- P(khỏe mạnh khi test âm) = 0.9997\n",
      "\n",
      "Với tỷ lệ mắc 10%:\n",
      "- P(có bệnh khi test dương) = 0.8407\n",
      "- P(khỏe mạnh khi test âm) = 0.9944\n"
     ]
    }
   ],
   "source": [
    "# YOUR CODE HERE\n",
    "def tinh_xac_suat_co_benh_khi_duong_tinh(ty_le_mac, do_nhay, do_dac_hieu):\n",
    "    # Xác suất mắc bệnh\n",
    "    p_benh = ty_le_mac\n",
    "    # Xác suất không mắc bệnh\n",
    "    p_khong_benh = 1 - p_benh\n",
    "    \n",
    "    # Xác suất test dương khi có bệnh (độ nhạy)\n",
    "    p_duong_tinh_khi_benh = do_nhay\n",
    "    # Xác suất test dương khi không bệnh (1 - độ đặc hiệu)\n",
    "    p_duong_tinh_khi_khong_benh = 1 - do_dac_hieu\n",
    "    \n",
    "    # Tính xác suất test dương (định lý xác suất toàn phần)\n",
    "    p_duong_tinh = p_duong_tinh_khi_benh * p_benh + p_duong_tinh_khi_khong_benh * p_khong_benh\n",
    "    \n",
    "    # Áp dụng định lý Bayes\n",
    "    p_benh_khi_duong_tinh = (p_duong_tinh_khi_benh * p_benh) / p_duong_tinh\n",
    "    \n",
    "    return p_benh_khi_duong_tinh\n",
    "\n",
    "def tinh_xac_suat_khoe_khi_am_tinh(ty_le_mac, do_nhay, do_dac_hieu):\n",
    "    p_benh = ty_le_mac\n",
    "    p_khong_benh = 1 - p_benh\n",
    "    \n",
    "    # Xác suất test âm khi có bệnh\n",
    "    p_am_tinh_khi_benh = 1 - do_nhay\n",
    "    # Xác suất test âm khi không bệnh (độ đặc hiệu)\n",
    "    p_am_tinh_khi_khong_benh = do_dac_hieu\n",
    "    \n",
    "    # Xác suất test âm toàn phần\n",
    "    p_am_tinh = p_am_tinh_khi_benh * p_benh + p_am_tinh_khi_khong_benh * p_khong_benh\n",
    "    \n",
    "    # Áp dụng Bayes\n",
    "    p_khoe_khi_am_tinh = (p_am_tinh_khi_khong_benh * p_khong_benh) / p_am_tinh\n",
    "    \n",
    "    return p_khoe_khi_am_tinh\n",
    "\n",
    "# Dữ liệu đầu vào\n",
    "ty_le_mac_1 = 0.005  # 0.5%\n",
    "do_nhay = 0.95\n",
    "do_dac_hieu = 0.98\n",
    "\n",
    "p_benh_duong_tinh_1 = tinh_xac_suat_co_benh_khi_duong_tinh(ty_le_mac_1, do_nhay, do_dac_hieu)\n",
    "p_khoe_am_tinh_1 = tinh_xac_suat_khoe_khi_am_tinh(ty_le_mac_1, do_nhay, do_dac_hieu)\n",
    "\n",
    "print(f\"Với tỷ lệ mắc 0.5%:\")\n",
    "print(f\"- P(có bệnh khi test dương) = {p_benh_duong_tinh_1:.4f}\")\n",
    "print(f\"- P(khỏe mạnh khi test âm) = {p_khoe_am_tinh_1:.4f}\")\n",
    "\n",
    "# Thay đổi tỷ lệ mắc 10%\n",
    "ty_le_mac_2 = 0.10\n",
    "\n",
    "p_benh_duong_tinh_2 = tinh_xac_suat_co_benh_khi_duong_tinh(ty_le_mac_2, do_nhay, do_dac_hieu)\n",
    "p_khoe_am_tinh_2 = tinh_xac_suat_khoe_khi_am_tinh(ty_le_mac_2, do_nhay, do_dac_hieu)\n",
    "\n",
    "print(f\"\\nVới tỷ lệ mắc 10%:\")\n",
    "print(f\"- P(có bệnh khi test dương) = {p_benh_duong_tinh_2:.4f}\")\n",
    "print(f\"- P(khỏe mạnh khi test âm) = {p_khoe_am_tinh_2:.4f}\")"
   ]
  },
  {
   "cell_type": "markdown",
   "metadata": {},
   "source": [
    "### Bài 7: Dự đoán Mua hàng của Khách\n",
    "\n",
    "TÌNH HUỐNG: Phân khúc khách hàng:\n",
    "- Cao cấp: 20%, tỷ lệ mua 40%\n",
    "- Thường: 60%, tỷ lệ mua 15%\n",
    "- Mới: 20%, tỷ lệ mua 8%\n",
    "\n",
    "YÊU CẦU:\n",
    "\n",
    "a) Một khách hàng mua hàng. Họ có khả năng thuộc nhóm nào?\n",
    "\n",
    "b) Tỷ lệ mua hàng tổng thể?\n",
    "\n",
    "c) Nên tập trung marketing vào nhóm nào?"
   ]
  },
  {
   "cell_type": "code",
   "execution_count": 10,
   "metadata": {},
   "outputs": [
    {
     "name": "stdout",
     "output_type": "stream",
     "text": [
      "Tỷ lệ mua hàng tổng thể: 0.1860\n",
      "\n",
      "Xác suất khách hàng mua thuộc từng nhóm:\n",
      "- Cao cấp: 0.4301\n",
      "- Thường: 0.4839\n",
      "- Mới: 0.0860\n",
      "\n",
      "Nên tập trung marketing vào nhóm: Thường\n"
     ]
    }
   ],
   "source": [
    "# YOUR CODE HERE\n",
    "# Dữ liệu đầu vào\n",
    "ty_le_nhom = {\n",
    "    'Cao cấp': 0.20,\n",
    "    'Thường': 0.60,\n",
    "    'Mới': 0.20\n",
    "}\n",
    "\n",
    "ty_le_mua_theo_nhom = {\n",
    "    'Cao cấp': 0.40,\n",
    "    'Thường': 0.15,\n",
    "    'Mới': 0.08\n",
    "}\n",
    "\n",
    "# a) Tính tỷ lệ mua hàng tổng thể\n",
    "p_mua = sum(ty_le_mua_theo_nhom[n] * ty_le_nhom[n] for n in ty_le_nhom)\n",
    "\n",
    "# b) Tính P(Nhóm | Mua)\n",
    "p_nhom_given_mua = {}\n",
    "for nhom in ty_le_nhom:\n",
    "    p_nhom_given_mua[nhom] = (ty_le_mua_theo_nhom[nhom] * ty_le_nhom[nhom]) / p_mua\n",
    "\n",
    "# In kết quả\n",
    "print(f\"Tỷ lệ mua hàng tổng thể: {p_mua:.4f}\\n\")\n",
    "\n",
    "print(\"Xác suất khách hàng mua thuộc từng nhóm:\")\n",
    "for nhom, px in p_nhom_given_mua.items():\n",
    "    print(f\"- {nhom}: {px:.4f}\")\n",
    "\n",
    "# c) Nhóm nên tập trung marketing\n",
    "# Ta có thể tập trung vào nhóm có P(Mua|Nhóm) cao nhất hoặc P(Nhóm|Mua) cao nhất\n",
    "nhom_tap_trung = max(p_nhom_given_mua, key=p_nhom_given_mua.get)\n",
    "print(f\"\\nNên tập trung marketing vào nhóm: {nhom_tap_trung}\")\n"
   ]
  },
  {
   "cell_type": "markdown",
   "metadata": {},
   "source": [
    "---\n",
    "## MÔ PHỎNG\n",
    "\n",
    "### Bài 8: Mô phỏng Độ tin cậy Kỹ thuật\n",
    "\n",
    "TÌNH HUỐNG: Hệ thống điện tử với 5 linh kiện nối tiếp: Mỗi linh kiện có độ tin cậy 95%. Hệ thống hỏng nếu BẤT KỲ linh kiện nào hỏng\n",
    "\n",
    "YÊU CẦU:\n",
    "\n",
    "a) Dùng Monte Carlo ước tính độ tin cậy hệ thống\n",
    "\n",
    "b) So sánh với công thức lý thuyết\n",
    "\n",
    "c) Cần bao nhiêu mô phỏng để kết quả chính xác?\n"
   ]
  },
  {
   "cell_type": "code",
   "execution_count": 11,
   "metadata": {},
   "outputs": [
    {
     "name": "stdout",
     "output_type": "stream",
     "text": [
      "Độ tin cậy hệ thống (Monte Carlo, 100000 lần): 0.77264\n",
      "Độ tin cậy hệ thống (lý thuyết): 0.77378\n",
      "Số mô phỏng cần thiết để sai số <= 0.01 với 95% tin cậy: 6725\n"
     ]
    }
   ],
   "source": [
    "# YOUR CODE HERE\n",
    "import numpy as np\n",
    "from math import sqrt\n",
    "\n",
    "def mo_phong_do_tin_cay(so_linh_kien=5, do_tin_cay_linh_kien=0.95, so_lan_mo_phong=10000):\n",
    "    # Mỗi mô phỏng: 5 linh kiện, mỗi linh kiện hoạt động với xác suất 0.95\n",
    "    linh_kien = np.random.rand(so_lan_mo_phong, so_linh_kien) < do_tin_cay_linh_kien\n",
    "    # Hệ thống hoạt động nếu tất cả 5 linh kiện hoạt động (tất cả True trên từng dòng)\n",
    "    he_thong_hoat_dong = np.all(linh_kien, axis=1)\n",
    "    do_tin_cay_he_thong = np.mean(he_thong_hoat_dong)\n",
    "    return do_tin_cay_he_thong\n",
    "\n",
    "# Tham số\n",
    "do_tin_cay_linh_kien = 0.95\n",
    "so_linh_kien = 5\n",
    "\n",
    "# a) Mô phỏng Monte Carlo\n",
    "so_lan_mo_phong = 100000\n",
    "do_tin_cay_mo_phong = mo_phong_do_tin_cay(so_linh_kien, do_tin_cay_linh_kien, so_lan_mo_phong)\n",
    "print(f\"Độ tin cậy hệ thống (Monte Carlo, {so_lan_mo_phong} lần): {do_tin_cay_mo_phong:.5f}\")\n",
    "\n",
    "# b) Công thức lý thuyết\n",
    "do_tin_cay_ly_thuyet = do_tin_cay_linh_kien ** so_linh_kien\n",
    "print(f\"Độ tin cậy hệ thống (lý thuyết): {do_tin_cay_ly_thuyet:.5f}\")\n",
    "\n",
    "# c) Tính số mô phỏng cần để sai số <= epsilon với 95% confidence\n",
    "epsilon = 0.01\n",
    "Z = 1.96\n",
    "p = do_tin_cay_ly_thuyet  # hoặc lấy p = do_tin_cay_mo_phong\n",
    "n = (Z**2 * p * (1-p)) / (epsilon**2)\n",
    "n = int(np.ceil(n))\n",
    "\n",
    "print(f\"Số mô phỏng cần thiết để sai số <= {epsilon} với 95% tin cậy: {n}\")\n"
   ]
  },
  {
   "cell_type": "markdown",
   "metadata": {},
   "source": [
    "### Bài 9: Rủi ro Danh mục Đầu tư\n",
    "\n",
    "TÌNH HUỐNG: Danh mục gồm 3 tài sản:\n",
    "\n",
    "- Cổ phiếu A: 40%, lợi suất kỳ vọng 8%, độ biến động 15%\n",
    "- Cổ phiếu B: 35%, lợi suất kỳ vọng 12%, độ biến động 20%\n",
    "- Trái phiếu: 25%, lợi suất kỳ vọng 4%, độ biến động 5%\n",
    "\n",
    "YÊU CẦU:\n",
    "\n",
    "a) Mô phỏng lợi suất 1 năm\n",
    "\n",
    "b) Ước tính Giá trị rủi ro (5th percentile)\n",
    "\n",
    "c) P(thua lỗ)?"
   ]
  },
  {
   "cell_type": "code",
   "execution_count": 12,
   "metadata": {},
   "outputs": [
    {
     "name": "stdout",
     "output_type": "stream",
     "text": [
      "a) Mô phỏng lợi suất danh mục: trung bình ≈ 0.0844, độ lệch chuẩn ≈ 0.0928\n",
      "b) Giá trị rủi ro 5% (5th percentile) = -0.0683\n",
      "c) Xác suất thua lỗ = 0.1818 (18.18%)\n"
     ]
    }
   ],
   "source": [
    "# YOUR CODE HERE\n",
    "import numpy as np\n",
    "\n",
    "# Dữ liệu\n",
    "ty_trong = np.array([0.4, 0.35, 0.25])  # Tỷ trọng từng tài sản\n",
    "ky_vong_lai_suat = np.array([0.08, 0.12, 0.04])  # Lợi suất kỳ vọng\n",
    "do_bien_dong = np.array([0.15, 0.2, 0.05])  # Độ biến động\n",
    "so_lan_mo_phong = 100000  # Số lần mô phỏng\n",
    "\n",
    "# a) Mô phỏng lợi suất 1 năm\n",
    "lai_suat_mo_phong = np.random.normal(ky_vong_lai_suat, do_bien_dong, size=(so_lan_mo_phong, 3))\n",
    "lai_suat_danh_muc = lai_suat_mo_phong @ ty_trong\n",
    "print(f\"a) Mô phỏng lợi suất danh mục: trung bình ≈ {np.mean(lai_suat_danh_muc):.4f}, độ lệch chuẩn ≈ {np.std(lai_suat_danh_muc):.4f}\")\n",
    "\n",
    "# b) Ước tính Giá trị rủi ro (5th percentile)\n",
    "gia_tri_ri_ro_5 = np.percentile(lai_suat_danh_muc, 5)\n",
    "print(f\"b) Giá trị rủi ro 5% (5th percentile) = {gia_tri_ri_ro_5:.4f}\")\n",
    "\n",
    "# c) Xác suất thua lỗ\n",
    "xac_suat_thua_lo = np.mean(lai_suat_danh_muc < 0)\n",
    "print(f\"c) Xác suất thua lỗ = {xac_suat_thua_lo:.4f} ({xac_suat_thua_lo*100:.2f}%)\")\n"
   ]
  },
  {
   "cell_type": "markdown",
   "metadata": {},
   "source": [
    "### Bài 10: Phân tích Độ tin cậy Mạng\n",
    "\n",
    "TÌNH HUỐNG: Mạng máy tính có đường dự phòng:\n",
    "- Đường chính: 95% tin cậy\n",
    "- Đường dự phòng: 90% tin cậy\n",
    "- Hoạt động độc lập\n",
    "\n",
    "Hệ thống chạy nếu ít nhất một đường hoạt động\n",
    "\n",
    "YÊU CẦU:\n",
    "\n",
    "a) Mô phỏng thời gian hoạt động mạng\n",
    "\n",
    "b) So sánh đường đơn vs có dự phòng\n",
    "\n",
    "c) Mức cải thiện tin cậy nhờ dự phòng?\n"
   ]
  },
  {
   "cell_type": "code",
   "execution_count": 13,
   "metadata": {},
   "outputs": [
    {
     "name": "stdout",
     "output_type": "stream",
     "text": [
      "a) Độ tin cậy mạng (mô phỏng Monte Carlo) = 0.9948\n",
      "   Đường chính đơn: 0.9500, Đường dự phòng đơn: 0.9000\n",
      "   Độ tin cậy hệ thống có dự phòng (mô phỏng) = 0.9948\n",
      "c) Mức cải thiện độ tin cậy nhờ dự phòng = 0.0448 (4.48%)\n",
      "   Độ tin cậy lý thuyết hệ thống song song = 0.9950\n"
     ]
    }
   ],
   "source": [
    "import random\n",
    "\n",
    "# Dữ liệu đầu vào\n",
    "do_tin_cay_duong_chinh = 0.95\n",
    "do_tin_cay_duong_du_phong = 0.90\n",
    "so_lan_mo_phong = 100000\n",
    "\n",
    "# a) Mô phỏng hệ thống mạng hoạt động\n",
    "dem_thanh_cong = 0\n",
    "for _ in range(so_lan_mo_phong):\n",
    "    duong_chinh_hoat_dong = random.random() < do_tin_cay_duong_chinh\n",
    "    duong_du_phong_hoat_dong = random.random() < do_tin_cay_duong_du_phong\n",
    "    if duong_chinh_hoat_dong or duong_du_phong_hoat_dong:\n",
    "        dem_thanh_cong += 1\n",
    "\n",
    "do_tin_cay_he_thong = dem_thanh_cong / so_lan_mo_phong\n",
    "print(f\"a) Độ tin cậy mạng (mô phỏng Monte Carlo) = {do_tin_cay_he_thong:.4f}\")\n",
    "\n",
    "# b) So sánh với đường đơn\n",
    "print(f\"   Đường chính đơn: {do_tin_cay_duong_chinh:.4f}, Đường dự phòng đơn: {do_tin_cay_duong_du_phong:.4f}\")\n",
    "print(f\"   Độ tin cậy hệ thống có dự phòng (mô phỏng) = {do_tin_cay_he_thong:.4f}\")\n",
    "\n",
    "# c) Mức cải thiện độ tin cậy nhờ dự phòng\n",
    "muc_cai_thien = do_tin_cay_he_thong - do_tin_cay_duong_chinh\n",
    "print(f\"c) Mức cải thiện độ tin cậy nhờ dự phòng = {muc_cai_thien:.4f} ({muc_cai_thien*100:.2f}%)\")\n",
    "\n",
    "# Độ tin cậy lý thuyết của hệ thống song song để kiểm tra\n",
    "do_tin_cay_ly_thuyet = 1 - (1 - do_tin_cay_duong_chinh) * (1 - do_tin_cay_duong_du_phong)\n",
    "print(f\"   Độ tin cậy lý thuyết hệ thống song song = {do_tin_cay_ly_thuyet:.4f}\")"
   ]
  },
  {
   "cell_type": "markdown",
   "metadata": {},
   "source": [
    "================================== Lab 3 Complete ==================================\n",
    "\n",
    "---\n",
    "\n",
    "## CHANGELOG\n",
    "\n",
    "- 20250911: add new version\n",
    "- ...\n",
    "\n",
    "---"
   ]
  }
 ],
 "metadata": {
  "colab": {
   "authorship_tag": "ABX9TyOelhBBO7DINQ7b3uUiVhbi",
   "provenance": []
  },
  "kernelspec": {
   "display_name": "base",
   "language": "python",
   "name": "python3"
  },
  "language_info": {
   "codemirror_mode": {
    "name": "ipython",
    "version": 3
   },
   "file_extension": ".py",
   "mimetype": "text/x-python",
   "name": "python",
   "nbconvert_exporter": "python",
   "pygments_lexer": "ipython3",
   "version": "3.12.4"
  }
 },
 "nbformat": 4,
 "nbformat_minor": 0
}
