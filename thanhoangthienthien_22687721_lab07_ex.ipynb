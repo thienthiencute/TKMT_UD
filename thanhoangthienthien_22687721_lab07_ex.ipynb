{
 "cells": [
  {
   "cell_type": "markdown",
   "metadata": {},
   "source": [
    "# Lab 07 - Bài tập"
   ]
  },
  {
   "cell_type": "markdown",
   "metadata": {},
   "source": [
    "## Luyện tập"
   ]
  },
  {
   "cell_type": "markdown",
   "metadata": {},
   "source": [
    "### Bài 1\n",
    "\n",
    "Trong thập niên 80, trọng lượng trung bình của thanh niên là 48 kg. Nay để xác định lại trọng lượng ấy, người ta chọn ngẫu nhiên 100 thanh niên đo trọng lượng trung bình là 50 kg và phương sai mẫu $s^2 = (10 kg)^2$. Thử xem trọng lượng thanh niên hiện nay phải chăng có thay đổi, với mức ý nghĩa là 1%?\n",
    "\n",
    "   _Đáp án. Trọng lượng thanh niên hiện nay không thay đổi so với trước kia._"
   ]
  },
  {
   "cell_type": "code",
   "execution_count": 2,
   "metadata": {},
   "outputs": [
    {
     "name": "stdout",
     "output_type": "stream",
     "text": [
      "Giá trị Z = 2.000\n",
      "Ngưỡng tới hạn ±2.576\n",
      "P-value = 0.0455\n",
      "Không bác bỏ H0 → Chưa có bằng chứng trọng lượng trung bình thay đổi.\n"
     ]
    }
   ],
   "source": [
    "import math\n",
    "from scipy import stats\n",
    "\n",
    "# Dữ liệu\n",
    "mu_0 = 48     \n",
    "x_bar = 50   \n",
    "s = 10       \n",
    "n = 100      \n",
    "alpha = 0.01  \n",
    "\n",
    "# Thống kê kiểm định Z\n",
    "z = (x_bar - mu_0) / (s / math.sqrt(n))\n",
    "\n",
    "# Ngưỡng tới hạn\n",
    "z_critical = stats.norm.ppf(1 - alpha/2)\n",
    "\n",
    "# P-value\n",
    "p_value = 2 * (1 - stats.norm.cdf(abs(z)))\n",
    "\n",
    "print(f\"Giá trị Z = {z:.3f}\")\n",
    "print(f\"Ngưỡng tới hạn ±{z_critical:.3f}\")\n",
    "print(f\"P-value = {p_value:.4f}\")\n",
    "\n",
    "if abs(z) > z_critical:\n",
    "    print(\"Bác bỏ H0 → Trọng lượng trung bình đã thay đổi.\")\n",
    "else:\n",
    "    print(\"Không bác bỏ H0 → Chưa có bằng chứng trọng lượng trung bình thay đổi.\")\n"
   ]
  },
  {
   "cell_type": "markdown",
   "metadata": {},
   "source": [
    "### Bài 2\n",
    "\n",
    "Một cửa hàng thực phẩm nhận thấy thời gian vừa qua trung bình một khách hàng mua 25 ngàn đồng thực phẩm trong ngày. Nay cửa hàng chọn ngẫu nhiên 15 khách hàng thấy trung bình một khách hàng mua 24 ngàn đồng trong ngày và phương sai mẫu là $s^2$ =  (2 ngàn đồng $)^2$\n",
    "\n",
    "   Với mức ý nghĩa là 5%, kiểm định xem có phải sức mua của khách hàng hiện nay thực sự giảm sút hay không. Biết rằng sức mua của khách hàng có phân phối chuẩn.\n",
    "\n",
    "   _Đáp án. Sức mua của khách hàng hiện nay thực sự giảm sút_"
   ]
  },
  {
   "cell_type": "code",
   "execution_count": 9,
   "metadata": {},
   "outputs": [
    {
     "name": "stdout",
     "output_type": "stream",
     "text": [
      "Giá trị t thống kê = -1.936\n",
      "Giá trị t tới hạn (một phía, α=0.05) = -1.761\n",
      "Giá trị p (p-value) = 0.0366\n",
      "Bác bỏ H0 → Sức mua trung bình của khách hàng đã giảm đáng kể.\n"
     ]
    }
   ],
   "source": [
    "import math\n",
    "from scipy import stats\n",
    "\n",
    "# Dữ liệu bài toán\n",
    "trung_binh_mau = 24       \n",
    "trung_binh_gia_thuyet = 25  \n",
    "do_lech_chuan_mau = 2       \n",
    "so_mau = 15                \n",
    "muc_y_nghia = 0.05          \n",
    "\n",
    "# Tính giá trị thống kê t\n",
    "t_thong_ke = (trung_binh_mau - trung_binh_gia_thuyet) / (do_lech_chuan_mau / math.sqrt(so_mau))\n",
    "\n",
    "# Tính giá trị tới hạn cho kiểm định một phía (trái)\n",
    "t_toi_han = stats.t.ppf(muc_y_nghia, df=so_mau - 1)\n",
    "\n",
    "# Tính p-value\n",
    "p_gia_tri = stats.t.cdf(t_thong_ke, df=so_mau - 1)\n",
    "\n",
    "# In kết quả\n",
    "print(f\"Giá trị t thống kê = {t_thong_ke:.3f}\")\n",
    "print(f\"Giá trị t tới hạn (một phía, α={muc_y_nghia}) = {t_toi_han:.3f}\")\n",
    "print(f\"Giá trị p (p-value) = {p_gia_tri:.4f}\")\n",
    "\n",
    "# Kết luận kiểm định\n",
    "if t_thong_ke < t_toi_han:\n",
    "    print(\"Bác bỏ H0 → Sức mua trung bình của khách hàng đã giảm đáng kể.\")\n",
    "else:\n",
    "    print(\"Không bác bỏ H0 → Chưa có đủ bằng chứng để kết luận sức mua giảm.\")\n",
    "\n"
   ]
  },
  {
   "cell_type": "markdown",
   "metadata": {},
   "source": [
    "### Bài 3\n",
    "\n",
    "Một máy sản suất tự động, lúc đầu tỷ lệ sản phẩm loại A là 20%. Sau khi áp dụng một phương pháp cải tiến sản xuất mới, người ta lấy 40 mẫu, mỗi mẫu gồm 10 sản phẩm đề kiểm tra. Kết quả kiểm tra cho ở bảng sau:\n",
    "\n",
    "| **Số sản phẩm loại A** |  1   |  2   |  3   |  4   |  5   |  6   |  7   |  8   |  9   |  10  |\n",
    "| ---------------------- | :--: | :--: | :--: | :--: | :--: | :--: | :--: | :--: | :--: | :--: |\n",
    "| **Số mẫu**             |  2   |  0   |  4   |  6   |  8   |  10  |  4   |  5   |  1   |  0   |\n",
    "\n",
    " Với mức ý nghĩa 5%. Hãy cho kết luận về phương pháp sản suất này. \n",
    "\n",
    " _Đáp án.Phương pháp cải tiến sản xuất mới thay đổi tỉ lệ sản phẩm loại A_"
   ]
  },
  {
   "cell_type": "code",
   "execution_count": 11,
   "metadata": {},
   "outputs": [
    {
     "name": "stdout",
     "output_type": "stream",
     "text": [
      "Giá trị χ^2 = 21.2294\n",
      "Bậc tự do = 1\n",
      "Giá trị p (p-value) = 0.0000\n",
      "Bác bỏ H₀ → Phương pháp sản xuất mới đã làm thay đổi tỷ lệ sản phẩm loại A.\n"
     ]
    }
   ],
   "source": [
    "import math\n",
    "from scipy.stats import binom, chi2\n",
    "\n",
    "# Dữ liệu bài toán\n",
    "so_san_pham_moi_mau = 10     # n\n",
    "ti_le_gia_thuyet = 0.2       # p₀ = 20%\n",
    "so_mau_thu_nghiem = 40       # tổng số mẫu lấy\n",
    "tan_suat_quan_sat = [2, 0, 4, 6, 8, 10, 4, 5, 1, 0]  # số mẫu có 1–10 sản phẩm loại A\n",
    "\n",
    "# Xác suất lý thuyết và tần suất kỳ vọng theo phân phối nhị thức\n",
    "xac_suat_ly_thuyet = [binom.pmf(k, so_san_pham_moi_mau, ti_le_gia_thuyet) for k in range(1, 11)]\n",
    "tan_suat_ky_vong = [so_mau_thu_nghiem * p for p in xac_suat_ly_thuyet]\n",
    "\n",
    "# Gộp nhóm nếu tần suất kỳ vọng < 5 (điều kiện của kiểm định χ²)\n",
    "obs_gop, exp_gop = [], []\n",
    "tong_o, tong_e = 0, 0\n",
    "for o, e in zip(tan_suat_quan_sat, tan_suat_ky_vong):\n",
    "    tong_o += o\n",
    "    tong_e += e\n",
    "    if tong_e >= 5:\n",
    "        obs_gop.append(tong_o)\n",
    "        exp_gop.append(tong_e)\n",
    "        tong_o, tong_e = 0, 0\n",
    "\n",
    "# Tính giá trị thống kê X^2\n",
    "chi_binh_phuong = sum([(o - e)**2 / e for o, e in zip(obs_gop, exp_gop)])\n",
    "\n",
    "# Bậc tự do: số nhóm - 1 - 1 (vì ước lượng p)\n",
    "bac_tu_do = len(obs_gop) - 1 - 1\n",
    "\n",
    "# Tính p-value\n",
    "p_gia_tri = 1 - chi2.cdf(chi_binh_phuong, bac_tu_do)\n",
    "\n",
    "# In kết quả\n",
    "print(f\"Giá trị χ^2 = {chi_binh_phuong:.4f}\")\n",
    "print(f\"Bậc tự do = {bac_tu_do}\")\n",
    "print(f\"Giá trị p (p-value) = {p_gia_tri:.4f}\")\n",
    "\n",
    "# Kết luận\n",
    "if p_gia_tri < 0.05:\n",
    "    print(\"Bác bỏ H₀ → Phương pháp sản xuất mới đã làm thay đổi tỷ lệ sản phẩm loại A.\")\n",
    "else:\n",
    "    print(\"Không bác bỏ H₀ → Phương pháp sản xuất mới chưa làm thay đổi đáng kể tỷ lệ loại A.\")\n",
    "\n"
   ]
  },
  {
   "cell_type": "markdown",
   "metadata": {},
   "source": [
    "### Bài 4\n",
    "\n",
    "Tỷ lệ phế phẩm của một nhà máy trước đây là 5%. Năm nay nhà máy áp dụng một biện pháp kỹ thuật mới. Để nghiên cứu tác dụng của biện pháp kỹ thuật mới, người ta lấy một mẫu gồm 800 sản phẩm để kiểm tra và thấy có 24 phế phẩm.\n",
    "\n",
    "a. Với α = 0.01. Hãy cho kết luận về biện pháp kỹ thuật mới này?\n",
    "\n",
    "b. Nếu nhà máy báo cáo tỷ lệ phế phẩm sau khi áp dụng biện pháp kỹ thuật mới là\n",
    "2% thì có chấp nhận được không? (α = 0.01).\n",
    "\n",
    "_Đáp án. (a) Biện pháp kĩ thuật mới làm thay đổi tỉ lệ phế phẩm (b) Nhà máy báo cáo tỷ lệ phế phẩm là chấp nhận được._"
   ]
  },
  {
   "cell_type": "code",
   "execution_count": 49,
   "metadata": {},
   "outputs": [
    {
     "name": "stdout",
     "output_type": "stream",
     "text": [
      "=== (a) Kiểm định p0 = 0.05 ===\n",
      "Tỷ lệ mẫu p = 0.0300\n",
      "z = -2.5955\n",
      "p-value = 0.0094\n",
      "→ Bác bỏ H₀: Biện pháp kỹ thuật mới đã làm thay đổi tỷ lệ phế phẩm.\n",
      "\n",
      "=== (b) Kiểm định p0 = 0.02 ===\n",
      "Tỷ lệ mẫu p = 0.0300\n",
      "z = 2.0203\n",
      "p-value = 0.0434\n",
      "→ Không bác bỏ H₀: Có thể chấp nhận rằng tỷ lệ phế phẩm là 2%.\n"
     ]
    }
   ],
   "source": [
    "import math\n",
    "from scipy import stats\n",
    "\n",
    "# Dữ liệu\n",
    "n = 800        # kích thước mẫu\n",
    "x = 24         # số phế phẩm quan sát\n",
    "p_mau = x / n  # tỷ lệ mẫu\n",
    "alpha = 0.01   # mức ý nghĩa\n",
    "\n",
    "# --- (a) Kiểm định p0 = 0.05 ---\n",
    "p0_a = 0.05\n",
    "z_a = (p_mau - p0_a) / math.sqrt(p0_a * (1 - p0_a) / n)\n",
    "p_value_a = 2 * (1 - stats.norm.cdf(abs(z_a)))\n",
    "\n",
    "print(\"=== (a) Kiểm định p0 = 0.05 ===\")\n",
    "print(f\"Tỷ lệ mẫu p = {p_mau:.4f}\")\n",
    "print(f\"z = {z_a:.4f}\")\n",
    "print(f\"p-value = {p_value_a:.4f}\")\n",
    "\n",
    "if p_value_a < alpha:\n",
    "    print(\"→ Bác bỏ H₀: Biện pháp kỹ thuật mới đã làm thay đổi tỷ lệ phế phẩm.\")\n",
    "else:\n",
    "    print(\"→ Không bác bỏ H₀: Chưa có bằng chứng cho thấy tỷ lệ phế phẩm thay đổi.\")\n",
    "\n",
    "# --- (b) Kiểm định p0 = 0.02 ---\n",
    "p0_b = 0.02\n",
    "z_b = (p_mau - p0_b) / math.sqrt(p0_b * (1 - p0_b) / n)\n",
    "p_value_b = 2 * (1 - stats.norm.cdf(abs(z_b)))\n",
    "\n",
    "print(\"\\n=== (b) Kiểm định p0 = 0.02 ===\")\n",
    "print(f\"Tỷ lệ mẫu p = {p_mau:.4f}\")\n",
    "print(f\"z = {z_b:.4f}\")\n",
    "print(f\"p-value = {p_value_b:.4f}\")\n",
    "\n",
    "if p_value_b < alpha:\n",
    "    print(\"→ Bác bỏ H₀: Không thể chấp nhận rằng tỷ lệ phế phẩm là 2%.\")\n",
    "else:\n",
    "    print(\"→ Không bác bỏ H₀: Có thể chấp nhận rằng tỷ lệ phế phẩm là 2%.\")\n"
   ]
  },
  {
   "cell_type": "markdown",
   "metadata": {},
   "source": [
    "## Kiểm định đặc trưng tỉ lệ (p)"
   ]
  },
  {
   "cell_type": "markdown",
   "metadata": {},
   "source": [
    "### Bài 5\n",
    "\n",
    "Dataset 18 (__M&M__) chứa thông tin trọng lượng và màu sắc của mẫu các viên kẹo của hãng M&M. \n",
    "\n",
    "Sử dụng mẫu trên bạn hãy kiểm tra phát biểu sau: __\"20% kẹo M&M có màu đỏ\"__ với mức ý nghĩa là 5%\n",
    "\n",
    "*Hướng dẫn: tính tỷ lệ các viên kẹo có màu đỏ từ dữ liệu, sử dụng kết quả để kiểm định phát biểu trên*"
   ]
  },
  {
   "cell_type": "code",
   "execution_count": 59,
   "metadata": {},
   "outputs": [
    {
     "name": "stdout",
     "output_type": "stream",
     "text": [
      "Số mẫu quan sát: 13\n",
      "Tỷ lệ trung bình kẹo đỏ (quan sát): 0.8635\n",
      "Giá trị Z: 5.9811\n",
      "P-value: 0.0000\n",
      "Bác bỏ giả thuyết H₀: Tỷ lệ M&M màu đỏ KHÔNG phải là 20%\n"
     ]
    }
   ],
   "source": [
    "import pandas as pd\n",
    "import numpy as np\n",
    "from scipy import stats\n",
    "\n",
    "# Đọc dữ liệu\n",
    "du_lieu = pd.read_excel('18_M_M.xls')\n",
    "\n",
    "\n",
    "# Lấy cột màu đỏ, bỏ các ô trống (NaN)\n",
    "du_lieu_do = du_lieu['Red'].dropna()\n",
    "\n",
    "# Số lượng mẫu\n",
    "n = len(du_lieu_do)\n",
    "\n",
    "# Trung bình tỷ lệ màu đỏ (giá trị trung bình của cột Red)\n",
    "ti_le_mau_do = du_lieu_do.mean()\n",
    "\n",
    "# Tỷ lệ giả định (theo nhà sản xuất)\n",
    "p0 = 0.20\n",
    "\n",
    "# Tính Z-score\n",
    "z = (ti_le_mau_do - p0) / np.sqrt((p0 * (1 - p0)) / n)\n",
    "\n",
    "# Tính p-value hai phía\n",
    "p_value = 2 * (1 - stats.norm.cdf(abs(z)))\n",
    "\n",
    "alpha = 0.05\n",
    "\n",
    "print(f\"Số mẫu quan sát: {n}\")\n",
    "print(f\"Tỷ lệ trung bình kẹo đỏ (quan sát): {ti_le_mau_do:.4f}\")\n",
    "print(f\"Giá trị Z: {z:.4f}\")\n",
    "print(f\"P-value: {p_value:.4f}\")\n",
    "\n",
    "if p_value < alpha:\n",
    "    print(\"Bác bỏ giả thuyết H₀: Tỷ lệ M&M màu đỏ KHÔNG phải là 20%\")\n",
    "else:\n",
    "    print(\"Không bác bỏ giả thuyết H₀: Không có đủ bằng chứng cho rằng tỷ lệ M&M màu đỏ khác 20%.\")\n"
   ]
  },
  {
   "cell_type": "markdown",
   "metadata": {},
   "source": [
    "### Bài 6\n",
    "\n",
    "Dataset 3 (__FRESH15__) chứa thông tin khảo sát những thay đổi về trọng lượng (weight - WT) và chỉ số khối của cơ thể (BMI) của sinh viên năm nhất tại một trường Đại Học. Thời điểm khảo sát là bắt đầu học kỳ (tháng 9 - SEP) và kết thúc học kỳ (tháng 4 - APR), các sinh viên được chọn ngẫu nhiên trong trường.\n",
    "\n",
    "Sử dụng mẫu trên, hãy kiểm tra phát biểu:__\"50% số sinh viên trong trường là nam\"__ với mức ý nghĩa 50%\n",
    "\n",
    "Các thuộc tính trong bộ dữ liệu:\n",
    "- SEX: Giới tính\n",
    "- WTSEP: trọng lượng đo vào tháng 9 (mới nhập học)\n",
    "- WTAPR: trọng lượng đo vào tháng 4 (kết thúc năm học)\n",
    "- BMISP: BMI tháng 9\n",
    "- BMIAP: BMI tháng 4"
   ]
  },
  {
   "cell_type": "code",
   "execution_count": 67,
   "metadata": {},
   "outputs": [
    {
     "name": "stdout",
     "output_type": "stream",
     "text": [
      "Tỉ lệ sinh viên nam: 0.4776\n",
      "Z-Score: -0.3665\n",
      "P-Value: 0.7140\n",
      "Không bác bỏ giả thuyết không: Không có đủ bằng chứng để kết luận tỉ lệ sinh viên nam khác 50%.\n"
     ]
    }
   ],
   "source": [
    "import pandas as pd\n",
    "import numpy as np\n",
    "from scipy import stats\n",
    "\n",
    "du_lieu = pd.read_excel('03_FRESH15.xls')\n",
    "\n",
    "tong_sv = len(du_lieu)\n",
    "so_sv_nam = len(du_lieu[du_lieu['SEX'] == 'M'])\n",
    "ti_le_mau = so_sv_nam / tong_sv\n",
    "\n",
    "p0 = 0.50\n",
    "n = tong_sv\n",
    "\n",
    "z = (ti_le_mau - p0) / np.sqrt((p0 * (1 - p0)) / n)\n",
    "p_value = 2 * (1 - stats.norm.cdf(abs(z)))  \n",
    "\n",
    "alpha = 0.50\n",
    "\n",
    "print(f\"Tỉ lệ sinh viên nam: {ti_le_mau:.4f}\")\n",
    "print(f\"Z-Score: {z:.4f}\")\n",
    "print(f\"P-Value: {p_value:.4f}\")\n",
    "\n",
    "if p_value < alpha:\n",
    "    print(\"Bác bỏ giả thuyết không: Tỉ lệ sinh viên nam khác 50%.\")\n",
    "else:\n",
    "    print(\"Không bác bỏ giả thuyết không: Không có đủ bằng chứng để kết luận tỉ lệ sinh viên nam khác 50%.\")\n"
   ]
  },
  {
   "cell_type": "markdown",
   "metadata": {},
   "source": [
    "## Kiểm định đặc trưng kỳ vọng ($\\mu$) biết ($\\sigma$)"
   ]
  },
  {
   "cell_type": "markdown",
   "metadata": {},
   "source": [
    "### Bài 7\n",
    "\n",
    "Dataset 13 __(VOLTAGE)__ liệt kê các mức điện áp được đo tại các hộ gia đình bởi các máy đo khác nhau: tại nhà (HOME), tại máy phát độc lập (Generator), tại trạm phát (UPS).\n",
    "\n",
    "Công ty cung cấp điện cho vùng này cam kết rằng: __\"Mục tiêu cung cấp điện cho mỗi hộ gia đình là 120V\"__ . Biết rằng độ lệch chuẩn của tất cả các mức điện áp đo được là 0.24V.\n",
    "\n",
    "Với mức ý nghĩa 1%. Bạn hãy kiểm tra xem công ty có làm đúng cam kết hay không?"
   ]
  },
  {
   "cell_type": "code",
   "execution_count": 75,
   "metadata": {},
   "outputs": [
    {
     "name": "stdout",
     "output_type": "stream",
     "text": [
      "Giá trị trung bình mẫu (Generator): 124.6625\n",
      "Số lượng mẫu: 40\n",
      "Z-Score: 122.8677\n",
      "P-Value: 0.0000\n",
      "Bác bỏ giả thuyết không: Điện áp KHÁC 120V.\n"
     ]
    }
   ],
   "source": [
    "import pandas as pd\n",
    "import numpy as np\n",
    "from scipy import stats\n",
    "\n",
    "data13 = pd.read_excel('13_VOLTAGE.xls')\n",
    "\n",
    "xbar = data13['Generator'].mean()\n",
    "n = len(data13)\n",
    "sigma = 0.24\n",
    "mu0 = 120\n",
    "alpha = 0.01\n",
    "\n",
    "z = (xbar - mu0) / (sigma / np.sqrt(n))\n",
    "p_value = 2 * (1 - stats.norm.cdf(abs(z)))\n",
    "\n",
    "print(f\"Giá trị trung bình mẫu (Generator): {xbar:.4f}\")\n",
    "print(f\"Số lượng mẫu: {n}\")\n",
    "print(f\"Z-Score: {z:.4f}\")\n",
    "print(f\"P-Value: {p_value:.4f}\")\n",
    "\n",
    "if p_value < alpha:\n",
    "    print(\"Bác bỏ giả thuyết không: Điện áp KHÁC 120V.\")\n",
    "else:\n",
    "    print(\"Không bác bỏ giả thuyết không: Không có đủ bằng chứng để kết luận điện áp khác 120V.\")\n",
    "\n"
   ]
  },
  {
   "cell_type": "markdown",
   "metadata": {},
   "source": [
    "## Kiểm định đặc trưng kỳ vọng ($\\mu$) không biết ($\\sigma$)"
   ]
  },
  {
   "cell_type": "markdown",
   "metadata": {},
   "source": [
    "### Bài 8\n",
    "\n",
    "Dataset 19(__SCREWS__) chứa thông tin khảo sát chiều dài một số đinh ốc được cung cấp bởi công ty Crown Bolt (đơn vị inches)\n",
    "\n",
    "Trên bao bì của các đinh ốc do công ty sản xuất có ghi chiều dài của các đinh ốc là 3/4 inches. Sử dụng mẫu trên bạn hãy cho biết chiều dài của đinh ốc lấy từ mẫu thu nhận được từ dữ liệu trên có nhất quán với chiều dài ghi trên bao bì hay không? Kiểm định với mức ý nghĩa 5%"
   ]
  },
  {
   "cell_type": "code",
   "execution_count": 79,
   "metadata": {},
   "outputs": [
    {
     "name": "stdout",
     "output_type": "stream",
     "text": [
      "=== KIỂM ĐỊNH GIẢ THUYẾT VỀ CHIỀU DÀI ĐINH ỐC ===\n",
      "Số lượng mẫu (n): 49\n",
      "Chiều dài trung bình mẫu: 0.7466 inches\n",
      "T-Score: -1.9185\n",
      "P-Value: 0.0610\n",
      "Không bác bỏ giả thuyết H0:\n",
      "Không có đủ bằng chứng để kết luận chiều dài trung bình của đinh ốc khác 0.75 inches (phù hợp với bao bì).\n"
     ]
    }
   ],
   "source": [
    "import pandas as pd\n",
    "import numpy as np\n",
    "from scipy import stats\n",
    "\n",
    "# Đọc dữ liệu\n",
    "data19 = pd.read_excel('19_SCREWS.xls')\n",
    "alpha = 0.05          \n",
    "mu0 = 3/4          \n",
    "\n",
    "# --- Tính toán thống kê mẫu ---\n",
    "chieu_dai_tb = data19.iloc[:, 0].mean()      \n",
    "do_lech_chuan = data19.iloc[:, 0].std(ddof=1) \n",
    "n = len(data19)                               \n",
    "\n",
    "# --- Thống kê kiểm định t ---\n",
    "t_thong_ke = (chieu_dai_tb - mu0) / (do_lech_chuan / np.sqrt(n))\n",
    "p_value = 2 * (1 - stats.t.cdf(abs(t_thong_ke), df=n-1))\n",
    "\n",
    "# --- In kết quả ---\n",
    "print(\"=== KIỂM ĐỊNH GIẢ THUYẾT VỀ CHIỀU DÀI ĐINH ỐC ===\")\n",
    "print(f\"Số lượng mẫu (n): {n}\")\n",
    "print(f\"Chiều dài trung bình mẫu: {chieu_dai_tb:.4f} inches\")\n",
    "print(f\"T-Score: {t_thong_ke:.4f}\")\n",
    "print(f\"P-Value: {p_value:.4f}\")\n",
    "\n",
    "# --- Kết luận ---\n",
    "if p_value < alpha:\n",
    "    print(\"Bác bỏ giả thuyết H0:\")\n",
    "    print(\"Chiều dài trung bình của đinh ốc KHÁC 0.75 inches (không nhất quán với bao bì).\")\n",
    "else:\n",
    "    print(\"Không bác bỏ giả thuyết H0:\")\n",
    "    print(\"Không có đủ bằng chứng để kết luận chiều dài trung bình của đinh ốc khác 0.75 inches (phù hợp với bao bì).\")\n"
   ]
  },
  {
   "cell_type": "markdown",
   "metadata": {},
   "source": [
    "### Bài 9\n",
    "\n",
    "Dataset 2 __(BODYTEMP)__ chứa thông tin khảo sát nhiệt độ cơ thể từ một nhóm người vào cùng một thời điểm lúc 12h trưa.\n",
    "\n",
    "Có một phát biểu nói rằng, nhiệt độ cơ thể người đo lúc 12h trưa trong quần thể này là 98,6°\n",
    "\n",
    "Dựa vào mẫu trên, bạn hãy cho biết phát biểu trên đúng hay sai ở mức ý nghĩa là 5%."
   ]
  },
  {
   "cell_type": "code",
   "execution_count": 83,
   "metadata": {},
   "outputs": [
    {
     "name": "stdout",
     "output_type": "stream",
     "text": [
      "Sample Mean Temperature: 98.1962\n",
      "T-Score: -6.6243\n",
      "P-Value: 0.0000\n",
      "Bác bỏ giả thuyết H0: Nhiệt độ trung bình KHÁC 98.6°F.\n"
     ]
    }
   ],
   "source": [
    "import pandas as pd\n",
    "import numpy as np\n",
    "from scipy import stats\n",
    "\n",
    "# Đọc dữ liệu\n",
    "data2 = pd.read_excel('02_BODYTEMP.xls')\n",
    "\n",
    "# Mức ý nghĩa\n",
    "alpha = 0.05\n",
    "\n",
    "# Tính toán các giá trị cần thiết\n",
    "mean_sample = data2.iloc[:, 0].mean()\n",
    "sample_std = data2.iloc[:, 0].std(ddof=1)\n",
    "n = len(data2)\n",
    "\n",
    "# Kiểm định giả thuyết H0: μ = 98.6\n",
    "t_score = (mean_sample - 98.6) / (sample_std / np.sqrt(n))\n",
    "p_value = 2 * (1 - stats.t.cdf(abs(t_score), df=n-1))\n",
    "\n",
    "# In kết quả\n",
    "print(f\"Sample Mean Temperature: {mean_sample:.4f}\")\n",
    "print(f\"T-Score: {t_score:.4f}\")\n",
    "print(f\"P-Value: {p_value:.4f}\")\n",
    "\n",
    "# Kết luận\n",
    "if p_value < alpha:\n",
    "    print(\"Bác bỏ giả thuyết H0: Nhiệt độ trung bình KHÁC 98.6°F.\")\n",
    "else:\n",
    "    print(\"Không bác bỏ giả thuyết H0: Không có đủ bằng chứng để nói nhiệt độ trung bình khác 98.6°F.\")\n"
   ]
  },
  {
   "cell_type": "markdown",
   "metadata": {},
   "source": [
    "### Bài 10\n",
    "\n",
    "Tìm hiểu z_test, t_test trong python"
   ]
  },
  {
   "cell_type": "markdown",
   "metadata": {},
   "source": [
    "Kiểm định z và kiểm định t trong Python\n",
    "\n",
    "1. Kiểm định z (z-test)\n",
    "Kiểm định z được sử dụng để kiểm tra giả thuyết về trung bình của một quần thể khi biết độ lệch chuẩn của quần thể.\n",
    "Công thức tính giá trị z:\n",
    "\n",
    "z = (x̄ - μ) / (σ / √n)\n",
    "\n",
    "Trong đó:\n",
    "\n",
    "x̄: Trung bình mẫu\n",
    "\n",
    "μ: Trung bình quần thể (giá trị giả thuyết)\n",
    "\n",
    "σ: Độ lệch chuẩn của quần thể\n",
    "\n",
    "n: Kích thước mẫu\n",
    "\n",
    "2. Kiểm định t (t-test)\n",
    "Kiểm định t được sử dụng khi không biết độ lệch chuẩn của quần thể, nhằm kiểm tra giả thuyết về trung bình của một quần thể.\n",
    "Công thức tính giá trị t:\n",
    "\n",
    "t = (x̄ - μ) / (s / √n)\n",
    "\n",
    "Trong đó:\n",
    "\n",
    "x̄: Trung bình mẫu\n",
    "\n",
    "μ: Trung bình quần thể (giá trị giả thuyết)\n",
    "\n",
    "s: Độ lệch chuẩn mẫu\n",
    "\n",
    "n: Kích thước mẫu\n",
    "\n",
    "3. Các hàm kiểm định t trong Python (thư viện scipy.stats)\n",
    "\n",
    "stats.ttest_ind(): Kiểm định t cho hai mẫu độc lập.\n",
    "\n",
    "stats.ttest_rel(): Kiểm định t cho hai mẫu phụ thuộc (paired samples).\n",
    "\n",
    "4. Kết luận\n",
    "Kiểm định z và t là hai công cụ thống kê quan trọng giúp kiểm tra giả thuyết về trung bình của quần thể.\n",
    "Việc lựa chọn loại kiểm định phù hợp phụ thuộc vào việc có biết độ lệch chuẩn của quần thể hay không.\n",
    "Thư viện scipy.stats trong Python cung cấp các hàm hỗ trợ sẵn, giúp việc thực hiện các phép kiểm định này trở nên nhanh chóng và chính xác."
   ]
  }
 ],
 "metadata": {
  "kernelspec": {
   "display_name": "Python 3 (ipykernel)",
   "language": "python",
   "name": "python3"
  },
  "language_info": {
   "codemirror_mode": {
    "name": "ipython",
    "version": 3
   },
   "file_extension": ".py",
   "mimetype": "text/x-python",
   "name": "python",
   "nbconvert_exporter": "python",
   "pygments_lexer": "ipython3",
   "version": "3.12.4"
  }
 },
 "nbformat": 4,
 "nbformat_minor": 4
}
