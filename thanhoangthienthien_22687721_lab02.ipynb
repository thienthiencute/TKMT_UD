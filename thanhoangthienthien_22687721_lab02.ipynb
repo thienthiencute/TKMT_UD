{
 "cells": [
  {
   "cell_type": "markdown",
   "metadata": {
    "id": "Cj3g7_Xjv0cQ"
   },
   "source": [
    "# Lab 02 - Bài tập"
   ]
  },
  {
   "cell_type": "markdown",
   "metadata": {},
   "source": [
    "## THÔNG TIN SINH VIÊN\n",
    "\n",
    "- Họ tên: Thân Hoàng Thiên Thiên\n",
    "- MSSV: 22687721\n",
    "\n",
    "\n",
    "Sinh viên ghi số bài làm được vào ô dưới đây:"
   ]
  },
  {
   "cell_type": "markdown",
   "metadata": {},
   "source": [
    "## KẾT QUẢ: 10/10 bài\n",
    "\n",
    "---"
   ]
  },
  {
   "cell_type": "code",
   "execution_count": 1,
   "metadata": {},
   "outputs": [],
   "source": [
    "# Run this cell first to import the libraries we will use\n",
    "import pandas as pd\n",
    "import numpy as np\n",
    "import seaborn as sns\n",
    "import matplotlib.pyplot as plt\n",
    "from scipy import stats"
   ]
  },
  {
   "cell_type": "markdown",
   "metadata": {
    "id": "uHya_O8Nv9Bg"
   },
   "source": [
    "## PANDAS\n",
    "\n",
    "Bạn hãy tạo một DataFrame có tên `df_sales` chứa thông tin các sản phẩm:"
   ]
  },
  {
   "cell_type": "code",
   "execution_count": 2,
   "metadata": {},
   "outputs": [],
   "source": [
    "sales_data = {\n",
    "    'product_id': ['P001', 'P002', 'P003', 'P004', 'P005', 'P006', 'P007', 'P008'],\n",
    "    'product_name': ['Laptop', 'Mouse', 'Keyboard', 'Monitor', 'Tablet', 'Phone', 'Headphones', 'Webcam'],\n",
    "    'category': ['Electronics', 'Accessories', 'Accessories', 'Electronics', 'Electronics', 'Electronics', 'Accessories', 'Accessories'],\n",
    "    'price': [999, 25, 75, 299, 499, 699, 129, 89],\n",
    "    'units_sold': [15, 120, 85, 35, 28, 45, 67, 23],\n",
    "    'supplier': ['TechCorp', 'AccessCo', 'AccessCo', 'TechCorp', 'MobileTech', 'MobileTech', 'AudioTech', 'CameraCo']\n",
    "}\n",
    "\n",
    "df_sales = pd.DataFrame(sales_data)"
   ]
  },
  {
   "cell_type": "markdown",
   "metadata": {},
   "source": [
    "### 1. Hiểu dữ liệu\n",
    "\n",
    "a. Kích thước của dữ liệu?\n",
    "\n",
    "b. Tên các cột?\n",
    "\n",
    "c. Hiển thị 3 dòng đầu tiên và 3 dòng cuối cùng\n",
    "\n",
    "d. Thống kê mô tả các biến định lượng"
   ]
  },
  {
   "cell_type": "code",
   "execution_count": 3,
   "metadata": {},
   "outputs": [
    {
     "name": "stdout",
     "output_type": "stream",
     "text": [
      "Kích thước của DataFrame: (8, 6)\n"
     ]
    }
   ],
   "source": [
    "# YOUR CODE HERE\n",
    "# a. Kích thước\n",
    "print(\"Kích thước của DataFrame:\", df_sales.shape)"
   ]
  },
  {
   "cell_type": "code",
   "execution_count": 4,
   "metadata": {},
   "outputs": [
    {
     "name": "stdout",
     "output_type": "stream",
     "text": [
      "Tên các cột trong DataFrame: ['product_id', 'product_name', 'category', 'price', 'units_sold', 'supplier']\n"
     ]
    }
   ],
   "source": [
    "# b. Tên các cột\n",
    "print(\"Tên các cột trong DataFrame:\", df_sales.columns.tolist())"
   ]
  },
  {
   "cell_type": "code",
   "execution_count": 6,
   "metadata": {},
   "outputs": [
    {
     "name": "stdout",
     "output_type": "stream",
     "text": [
      "3 dòng đầu tiên của DataFrame:\n",
      "   product_id product_name     category  price  units_sold  supplier\n",
      "0       P001       Laptop  Electronics    999          15  TechCorp\n",
      "1       P002        Mouse  Accessories     25         120  AccessCo\n",
      "2       P003     Keyboard  Accessories     75          85  AccessCo\n",
      "3 dòng cuối cùng của DataFrame:\n",
      "   product_id product_name     category  price  units_sold    supplier\n",
      "5       P006        Phone  Electronics    699          45  MobileTech\n",
      "6       P007   Headphones  Accessories    129          67   AudioTech\n",
      "7       P008       Webcam  Accessories     89          23    CameraCo\n"
     ]
    }
   ],
   "source": [
    "# c. Hiển thị 3 dòng đầu tiên và 3 dòng cuối cùng\n",
    "print(\"3 dòng đầu tiên của DataFrame:\\n\", df_sales.head(3))\n",
    "print(\"3 dòng cuối cùng của DataFrame:\\n\", df_sales.tail(3))"
   ]
  },
  {
   "cell_type": "code",
   "execution_count": 7,
   "metadata": {},
   "outputs": [
    {
     "name": "stdout",
     "output_type": "stream",
     "text": [
      "Thống kê mô tả các biến định lượng:\n",
      "            price  units_sold\n",
      "count    8.00000    8.000000\n",
      "mean   351.75000   52.250000\n",
      "std    351.72869   35.979161\n",
      "min     25.00000   15.000000\n",
      "25%     85.50000   26.750000\n",
      "50%    214.00000   40.000000\n",
      "75%    549.00000   71.500000\n",
      "max    999.00000  120.000000\n"
     ]
    }
   ],
   "source": [
    "#d. Thống kê mô tả các biến định lượng\n",
    "print(\"Thống kê mô tả các biến định lượng:\\n\", df_sales.describe())"
   ]
  },
  {
   "cell_type": "markdown",
   "metadata": {},
   "source": [
    "### 2. Lọc dữ liệu\n",
    "\n",
    "a. Lọc các cột sau: 'product_name', 'price', and 'units_sold'\n",
    "\n",
    "b. Lọc các sản phẩm có giá trên 100\n",
    "\n",
    "c. Tìm các sản phẩm điện tử ('Electronics') với số lượng bán trên 30\n",
    "\n",
    "d. Tìm những sản phẩm phụ kiện (`Accessories`) có giá từ 50 đến 100"
   ]
  },
  {
   "cell_type": "code",
   "execution_count": 12,
   "metadata": {},
   "outputs": [
    {
     "data": {
      "text/html": [
       "<div>\n",
       "<style scoped>\n",
       "    .dataframe tbody tr th:only-of-type {\n",
       "        vertical-align: middle;\n",
       "    }\n",
       "\n",
       "    .dataframe tbody tr th {\n",
       "        vertical-align: top;\n",
       "    }\n",
       "\n",
       "    .dataframe thead th {\n",
       "        text-align: right;\n",
       "    }\n",
       "</style>\n",
       "<table border=\"1\" class=\"dataframe\">\n",
       "  <thead>\n",
       "    <tr style=\"text-align: right;\">\n",
       "      <th></th>\n",
       "      <th>product_name</th>\n",
       "      <th>price</th>\n",
       "      <th>units_sold</th>\n",
       "    </tr>\n",
       "  </thead>\n",
       "  <tbody>\n",
       "    <tr>\n",
       "      <th>0</th>\n",
       "      <td>Laptop</td>\n",
       "      <td>999</td>\n",
       "      <td>15</td>\n",
       "    </tr>\n",
       "    <tr>\n",
       "      <th>1</th>\n",
       "      <td>Mouse</td>\n",
       "      <td>25</td>\n",
       "      <td>120</td>\n",
       "    </tr>\n",
       "    <tr>\n",
       "      <th>2</th>\n",
       "      <td>Keyboard</td>\n",
       "      <td>75</td>\n",
       "      <td>85</td>\n",
       "    </tr>\n",
       "    <tr>\n",
       "      <th>3</th>\n",
       "      <td>Monitor</td>\n",
       "      <td>299</td>\n",
       "      <td>35</td>\n",
       "    </tr>\n",
       "    <tr>\n",
       "      <th>4</th>\n",
       "      <td>Tablet</td>\n",
       "      <td>499</td>\n",
       "      <td>28</td>\n",
       "    </tr>\n",
       "    <tr>\n",
       "      <th>5</th>\n",
       "      <td>Phone</td>\n",
       "      <td>699</td>\n",
       "      <td>45</td>\n",
       "    </tr>\n",
       "    <tr>\n",
       "      <th>6</th>\n",
       "      <td>Headphones</td>\n",
       "      <td>129</td>\n",
       "      <td>67</td>\n",
       "    </tr>\n",
       "    <tr>\n",
       "      <th>7</th>\n",
       "      <td>Webcam</td>\n",
       "      <td>89</td>\n",
       "      <td>23</td>\n",
       "    </tr>\n",
       "  </tbody>\n",
       "</table>\n",
       "</div>"
      ],
      "text/plain": [
       "  product_name  price  units_sold\n",
       "0       Laptop    999          15\n",
       "1        Mouse     25         120\n",
       "2     Keyboard     75          85\n",
       "3      Monitor    299          35\n",
       "4       Tablet    499          28\n",
       "5        Phone    699          45\n",
       "6   Headphones    129          67\n",
       "7       Webcam     89          23"
      ]
     },
     "execution_count": 12,
     "metadata": {},
     "output_type": "execute_result"
    }
   ],
   "source": [
    "# YOUR CODE HERE\n",
    "# a. Lọc các cột sau: 'product_name', 'price', and 'units_sold'\n",
    "df_sales[['product_name', 'price', 'units_sold']]"
   ]
  },
  {
   "cell_type": "code",
   "execution_count": 9,
   "metadata": {},
   "outputs": [
    {
     "data": {
      "text/html": [
       "<div>\n",
       "<style scoped>\n",
       "    .dataframe tbody tr th:only-of-type {\n",
       "        vertical-align: middle;\n",
       "    }\n",
       "\n",
       "    .dataframe tbody tr th {\n",
       "        vertical-align: top;\n",
       "    }\n",
       "\n",
       "    .dataframe thead th {\n",
       "        text-align: right;\n",
       "    }\n",
       "</style>\n",
       "<table border=\"1\" class=\"dataframe\">\n",
       "  <thead>\n",
       "    <tr style=\"text-align: right;\">\n",
       "      <th></th>\n",
       "      <th>product_id</th>\n",
       "      <th>product_name</th>\n",
       "      <th>category</th>\n",
       "      <th>price</th>\n",
       "      <th>units_sold</th>\n",
       "      <th>supplier</th>\n",
       "    </tr>\n",
       "  </thead>\n",
       "  <tbody>\n",
       "    <tr>\n",
       "      <th>0</th>\n",
       "      <td>P001</td>\n",
       "      <td>Laptop</td>\n",
       "      <td>Electronics</td>\n",
       "      <td>999</td>\n",
       "      <td>15</td>\n",
       "      <td>TechCorp</td>\n",
       "    </tr>\n",
       "    <tr>\n",
       "      <th>3</th>\n",
       "      <td>P004</td>\n",
       "      <td>Monitor</td>\n",
       "      <td>Electronics</td>\n",
       "      <td>299</td>\n",
       "      <td>35</td>\n",
       "      <td>TechCorp</td>\n",
       "    </tr>\n",
       "    <tr>\n",
       "      <th>4</th>\n",
       "      <td>P005</td>\n",
       "      <td>Tablet</td>\n",
       "      <td>Electronics</td>\n",
       "      <td>499</td>\n",
       "      <td>28</td>\n",
       "      <td>MobileTech</td>\n",
       "    </tr>\n",
       "    <tr>\n",
       "      <th>5</th>\n",
       "      <td>P006</td>\n",
       "      <td>Phone</td>\n",
       "      <td>Electronics</td>\n",
       "      <td>699</td>\n",
       "      <td>45</td>\n",
       "      <td>MobileTech</td>\n",
       "    </tr>\n",
       "    <tr>\n",
       "      <th>6</th>\n",
       "      <td>P007</td>\n",
       "      <td>Headphones</td>\n",
       "      <td>Accessories</td>\n",
       "      <td>129</td>\n",
       "      <td>67</td>\n",
       "      <td>AudioTech</td>\n",
       "    </tr>\n",
       "  </tbody>\n",
       "</table>\n",
       "</div>"
      ],
      "text/plain": [
       "  product_id product_name     category  price  units_sold    supplier\n",
       "0       P001       Laptop  Electronics    999          15    TechCorp\n",
       "3       P004      Monitor  Electronics    299          35    TechCorp\n",
       "4       P005       Tablet  Electronics    499          28  MobileTech\n",
       "5       P006        Phone  Electronics    699          45  MobileTech\n",
       "6       P007   Headphones  Accessories    129          67   AudioTech"
      ]
     },
     "execution_count": 9,
     "metadata": {},
     "output_type": "execute_result"
    }
   ],
   "source": [
    "# b. Lọc các sản phẩm có giá trên 100\n",
    "df_sales[df_sales['price'] > 100]"
   ]
  },
  {
   "cell_type": "code",
   "execution_count": 10,
   "metadata": {},
   "outputs": [
    {
     "data": {
      "text/html": [
       "<div>\n",
       "<style scoped>\n",
       "    .dataframe tbody tr th:only-of-type {\n",
       "        vertical-align: middle;\n",
       "    }\n",
       "\n",
       "    .dataframe tbody tr th {\n",
       "        vertical-align: top;\n",
       "    }\n",
       "\n",
       "    .dataframe thead th {\n",
       "        text-align: right;\n",
       "    }\n",
       "</style>\n",
       "<table border=\"1\" class=\"dataframe\">\n",
       "  <thead>\n",
       "    <tr style=\"text-align: right;\">\n",
       "      <th></th>\n",
       "      <th>product_id</th>\n",
       "      <th>product_name</th>\n",
       "      <th>category</th>\n",
       "      <th>price</th>\n",
       "      <th>units_sold</th>\n",
       "      <th>supplier</th>\n",
       "    </tr>\n",
       "  </thead>\n",
       "  <tbody>\n",
       "    <tr>\n",
       "      <th>3</th>\n",
       "      <td>P004</td>\n",
       "      <td>Monitor</td>\n",
       "      <td>Electronics</td>\n",
       "      <td>299</td>\n",
       "      <td>35</td>\n",
       "      <td>TechCorp</td>\n",
       "    </tr>\n",
       "    <tr>\n",
       "      <th>5</th>\n",
       "      <td>P006</td>\n",
       "      <td>Phone</td>\n",
       "      <td>Electronics</td>\n",
       "      <td>699</td>\n",
       "      <td>45</td>\n",
       "      <td>MobileTech</td>\n",
       "    </tr>\n",
       "  </tbody>\n",
       "</table>\n",
       "</div>"
      ],
      "text/plain": [
       "  product_id product_name     category  price  units_sold    supplier\n",
       "3       P004      Monitor  Electronics    299          35    TechCorp\n",
       "5       P006        Phone  Electronics    699          45  MobileTech"
      ]
     },
     "execution_count": 10,
     "metadata": {},
     "output_type": "execute_result"
    }
   ],
   "source": [
    "# c. Tìm các sản phẩm điện tử ('Electronics') với số lượng bán trên 30\n",
    "df_sales[(df_sales['category'] == 'Electronics') & (df_sales['units_sold'] > 30)]"
   ]
  },
  {
   "cell_type": "code",
   "execution_count": 11,
   "metadata": {},
   "outputs": [
    {
     "data": {
      "text/html": [
       "<div>\n",
       "<style scoped>\n",
       "    .dataframe tbody tr th:only-of-type {\n",
       "        vertical-align: middle;\n",
       "    }\n",
       "\n",
       "    .dataframe tbody tr th {\n",
       "        vertical-align: top;\n",
       "    }\n",
       "\n",
       "    .dataframe thead th {\n",
       "        text-align: right;\n",
       "    }\n",
       "</style>\n",
       "<table border=\"1\" class=\"dataframe\">\n",
       "  <thead>\n",
       "    <tr style=\"text-align: right;\">\n",
       "      <th></th>\n",
       "      <th>product_id</th>\n",
       "      <th>product_name</th>\n",
       "      <th>category</th>\n",
       "      <th>price</th>\n",
       "      <th>units_sold</th>\n",
       "      <th>supplier</th>\n",
       "    </tr>\n",
       "  </thead>\n",
       "  <tbody>\n",
       "    <tr>\n",
       "      <th>2</th>\n",
       "      <td>P003</td>\n",
       "      <td>Keyboard</td>\n",
       "      <td>Accessories</td>\n",
       "      <td>75</td>\n",
       "      <td>85</td>\n",
       "      <td>AccessCo</td>\n",
       "    </tr>\n",
       "    <tr>\n",
       "      <th>7</th>\n",
       "      <td>P008</td>\n",
       "      <td>Webcam</td>\n",
       "      <td>Accessories</td>\n",
       "      <td>89</td>\n",
       "      <td>23</td>\n",
       "      <td>CameraCo</td>\n",
       "    </tr>\n",
       "  </tbody>\n",
       "</table>\n",
       "</div>"
      ],
      "text/plain": [
       "  product_id product_name     category  price  units_sold  supplier\n",
       "2       P003     Keyboard  Accessories     75          85  AccessCo\n",
       "7       P008       Webcam  Accessories     89          23  CameraCo"
      ]
     },
     "execution_count": 11,
     "metadata": {},
     "output_type": "execute_result"
    }
   ],
   "source": [
    "# d. Tìm những sản phẩm phụ kiện (`Accessories`) có giá từ 50 đến 100\n",
    "df_sales[(df_sales['category'] == 'Accessories') & (df_sales['price'].between(50, 100))]"
   ]
  },
  {
   "cell_type": "markdown",
   "metadata": {},
   "source": [
    "### 3. Tạo cột mới\n",
    "\n",
    "Tao thêm các cột sau:\n",
    "\n",
    "a. Tạo cột doanh thu `revenue` = `price` * `units_sold`\n",
    "\n",
    "b. Tạo cột `price_category` dựa trên giá của sản phẩm:\n",
    "   - 'Low' nếu giá < 100\n",
    "   - 'Medium' nếu 1000 <= giá <= 500\n",
    "   - 'High' nếu giá > 500\n",
    "\n",
    "c. Tạo cộ `high_performer`:  True if units_sold > median(units_sold)"
   ]
  },
  {
   "cell_type": "code",
   "execution_count": 13,
   "metadata": {},
   "outputs": [
    {
     "data": {
      "text/html": [
       "<div>\n",
       "<style scoped>\n",
       "    .dataframe tbody tr th:only-of-type {\n",
       "        vertical-align: middle;\n",
       "    }\n",
       "\n",
       "    .dataframe tbody tr th {\n",
       "        vertical-align: top;\n",
       "    }\n",
       "\n",
       "    .dataframe thead th {\n",
       "        text-align: right;\n",
       "    }\n",
       "</style>\n",
       "<table border=\"1\" class=\"dataframe\">\n",
       "  <thead>\n",
       "    <tr style=\"text-align: right;\">\n",
       "      <th></th>\n",
       "      <th>product_id</th>\n",
       "      <th>product_name</th>\n",
       "      <th>category</th>\n",
       "      <th>price</th>\n",
       "      <th>units_sold</th>\n",
       "      <th>supplier</th>\n",
       "      <th>revenue</th>\n",
       "    </tr>\n",
       "  </thead>\n",
       "  <tbody>\n",
       "    <tr>\n",
       "      <th>0</th>\n",
       "      <td>P001</td>\n",
       "      <td>Laptop</td>\n",
       "      <td>Electronics</td>\n",
       "      <td>999</td>\n",
       "      <td>15</td>\n",
       "      <td>TechCorp</td>\n",
       "      <td>14985</td>\n",
       "    </tr>\n",
       "    <tr>\n",
       "      <th>1</th>\n",
       "      <td>P002</td>\n",
       "      <td>Mouse</td>\n",
       "      <td>Accessories</td>\n",
       "      <td>25</td>\n",
       "      <td>120</td>\n",
       "      <td>AccessCo</td>\n",
       "      <td>3000</td>\n",
       "    </tr>\n",
       "    <tr>\n",
       "      <th>2</th>\n",
       "      <td>P003</td>\n",
       "      <td>Keyboard</td>\n",
       "      <td>Accessories</td>\n",
       "      <td>75</td>\n",
       "      <td>85</td>\n",
       "      <td>AccessCo</td>\n",
       "      <td>6375</td>\n",
       "    </tr>\n",
       "    <tr>\n",
       "      <th>3</th>\n",
       "      <td>P004</td>\n",
       "      <td>Monitor</td>\n",
       "      <td>Electronics</td>\n",
       "      <td>299</td>\n",
       "      <td>35</td>\n",
       "      <td>TechCorp</td>\n",
       "      <td>10465</td>\n",
       "    </tr>\n",
       "    <tr>\n",
       "      <th>4</th>\n",
       "      <td>P005</td>\n",
       "      <td>Tablet</td>\n",
       "      <td>Electronics</td>\n",
       "      <td>499</td>\n",
       "      <td>28</td>\n",
       "      <td>MobileTech</td>\n",
       "      <td>13972</td>\n",
       "    </tr>\n",
       "    <tr>\n",
       "      <th>5</th>\n",
       "      <td>P006</td>\n",
       "      <td>Phone</td>\n",
       "      <td>Electronics</td>\n",
       "      <td>699</td>\n",
       "      <td>45</td>\n",
       "      <td>MobileTech</td>\n",
       "      <td>31455</td>\n",
       "    </tr>\n",
       "    <tr>\n",
       "      <th>6</th>\n",
       "      <td>P007</td>\n",
       "      <td>Headphones</td>\n",
       "      <td>Accessories</td>\n",
       "      <td>129</td>\n",
       "      <td>67</td>\n",
       "      <td>AudioTech</td>\n",
       "      <td>8643</td>\n",
       "    </tr>\n",
       "    <tr>\n",
       "      <th>7</th>\n",
       "      <td>P008</td>\n",
       "      <td>Webcam</td>\n",
       "      <td>Accessories</td>\n",
       "      <td>89</td>\n",
       "      <td>23</td>\n",
       "      <td>CameraCo</td>\n",
       "      <td>2047</td>\n",
       "    </tr>\n",
       "  </tbody>\n",
       "</table>\n",
       "</div>"
      ],
      "text/plain": [
       "  product_id product_name     category  price  units_sold    supplier  revenue\n",
       "0       P001       Laptop  Electronics    999          15    TechCorp    14985\n",
       "1       P002        Mouse  Accessories     25         120    AccessCo     3000\n",
       "2       P003     Keyboard  Accessories     75          85    AccessCo     6375\n",
       "3       P004      Monitor  Electronics    299          35    TechCorp    10465\n",
       "4       P005       Tablet  Electronics    499          28  MobileTech    13972\n",
       "5       P006        Phone  Electronics    699          45  MobileTech    31455\n",
       "6       P007   Headphones  Accessories    129          67   AudioTech     8643\n",
       "7       P008       Webcam  Accessories     89          23    CameraCo     2047"
      ]
     },
     "execution_count": 13,
     "metadata": {},
     "output_type": "execute_result"
    }
   ],
   "source": [
    "# YOUR CODE HERE\n",
    "# a. Tạo cột doanh thu `revenue` = `price` * `units_sold`\n",
    "df_sales['revenue'] = df_sales['price'] * df_sales['units_sold']\n",
    "df_sales"
   ]
  },
  {
   "cell_type": "code",
   "execution_count": 15,
   "metadata": {},
   "outputs": [
    {
     "data": {
      "text/html": [
       "<div>\n",
       "<style scoped>\n",
       "    .dataframe tbody tr th:only-of-type {\n",
       "        vertical-align: middle;\n",
       "    }\n",
       "\n",
       "    .dataframe tbody tr th {\n",
       "        vertical-align: top;\n",
       "    }\n",
       "\n",
       "    .dataframe thead th {\n",
       "        text-align: right;\n",
       "    }\n",
       "</style>\n",
       "<table border=\"1\" class=\"dataframe\">\n",
       "  <thead>\n",
       "    <tr style=\"text-align: right;\">\n",
       "      <th></th>\n",
       "      <th>product_id</th>\n",
       "      <th>product_name</th>\n",
       "      <th>category</th>\n",
       "      <th>price</th>\n",
       "      <th>units_sold</th>\n",
       "      <th>supplier</th>\n",
       "      <th>revenue</th>\n",
       "      <th>price_category</th>\n",
       "    </tr>\n",
       "  </thead>\n",
       "  <tbody>\n",
       "    <tr>\n",
       "      <th>0</th>\n",
       "      <td>P001</td>\n",
       "      <td>Laptop</td>\n",
       "      <td>Electronics</td>\n",
       "      <td>999</td>\n",
       "      <td>15</td>\n",
       "      <td>TechCorp</td>\n",
       "      <td>14985</td>\n",
       "      <td>High</td>\n",
       "    </tr>\n",
       "    <tr>\n",
       "      <th>1</th>\n",
       "      <td>P002</td>\n",
       "      <td>Mouse</td>\n",
       "      <td>Accessories</td>\n",
       "      <td>25</td>\n",
       "      <td>120</td>\n",
       "      <td>AccessCo</td>\n",
       "      <td>3000</td>\n",
       "      <td>Low</td>\n",
       "    </tr>\n",
       "    <tr>\n",
       "      <th>2</th>\n",
       "      <td>P003</td>\n",
       "      <td>Keyboard</td>\n",
       "      <td>Accessories</td>\n",
       "      <td>75</td>\n",
       "      <td>85</td>\n",
       "      <td>AccessCo</td>\n",
       "      <td>6375</td>\n",
       "      <td>Low</td>\n",
       "    </tr>\n",
       "    <tr>\n",
       "      <th>3</th>\n",
       "      <td>P004</td>\n",
       "      <td>Monitor</td>\n",
       "      <td>Electronics</td>\n",
       "      <td>299</td>\n",
       "      <td>35</td>\n",
       "      <td>TechCorp</td>\n",
       "      <td>10465</td>\n",
       "      <td>Medium</td>\n",
       "    </tr>\n",
       "    <tr>\n",
       "      <th>4</th>\n",
       "      <td>P005</td>\n",
       "      <td>Tablet</td>\n",
       "      <td>Electronics</td>\n",
       "      <td>499</td>\n",
       "      <td>28</td>\n",
       "      <td>MobileTech</td>\n",
       "      <td>13972</td>\n",
       "      <td>Medium</td>\n",
       "    </tr>\n",
       "    <tr>\n",
       "      <th>5</th>\n",
       "      <td>P006</td>\n",
       "      <td>Phone</td>\n",
       "      <td>Electronics</td>\n",
       "      <td>699</td>\n",
       "      <td>45</td>\n",
       "      <td>MobileTech</td>\n",
       "      <td>31455</td>\n",
       "      <td>High</td>\n",
       "    </tr>\n",
       "    <tr>\n",
       "      <th>6</th>\n",
       "      <td>P007</td>\n",
       "      <td>Headphones</td>\n",
       "      <td>Accessories</td>\n",
       "      <td>129</td>\n",
       "      <td>67</td>\n",
       "      <td>AudioTech</td>\n",
       "      <td>8643</td>\n",
       "      <td>Medium</td>\n",
       "    </tr>\n",
       "    <tr>\n",
       "      <th>7</th>\n",
       "      <td>P008</td>\n",
       "      <td>Webcam</td>\n",
       "      <td>Accessories</td>\n",
       "      <td>89</td>\n",
       "      <td>23</td>\n",
       "      <td>CameraCo</td>\n",
       "      <td>2047</td>\n",
       "      <td>Low</td>\n",
       "    </tr>\n",
       "  </tbody>\n",
       "</table>\n",
       "</div>"
      ],
      "text/plain": [
       "  product_id product_name     category  price  units_sold    supplier  \\\n",
       "0       P001       Laptop  Electronics    999          15    TechCorp   \n",
       "1       P002        Mouse  Accessories     25         120    AccessCo   \n",
       "2       P003     Keyboard  Accessories     75          85    AccessCo   \n",
       "3       P004      Monitor  Electronics    299          35    TechCorp   \n",
       "4       P005       Tablet  Electronics    499          28  MobileTech   \n",
       "5       P006        Phone  Electronics    699          45  MobileTech   \n",
       "6       P007   Headphones  Accessories    129          67   AudioTech   \n",
       "7       P008       Webcam  Accessories     89          23    CameraCo   \n",
       "\n",
       "   revenue price_category  \n",
       "0    14985           High  \n",
       "1     3000            Low  \n",
       "2     6375            Low  \n",
       "3    10465         Medium  \n",
       "4    13972         Medium  \n",
       "5    31455           High  \n",
       "6     8643         Medium  \n",
       "7     2047            Low  "
      ]
     },
     "execution_count": 15,
     "metadata": {},
     "output_type": "execute_result"
    }
   ],
   "source": [
    "#b. Tạo cột `price_category` dựa trên giá của sản phẩm:\n",
    "#   - 'Low' nếu giá < 100\n",
    "#   - 'Medium' nếu 1000 <= giá <= 500\n",
    "#  - 'High' nếu giá > 500\n",
    "def categorize_price(price):\n",
    "    if price < 100:\n",
    "        return 'Low'\n",
    "    elif 100 <= price <= 500:\n",
    "        return 'Medium'\n",
    "    else:\n",
    "        return 'High'\n",
    "\n",
    "df_sales['price_category'] = df_sales['price'].apply(categorize_price)\n",
    "df_sales"
   ]
  },
  {
   "cell_type": "code",
   "execution_count": 16,
   "metadata": {},
   "outputs": [
    {
     "data": {
      "text/html": [
       "<div>\n",
       "<style scoped>\n",
       "    .dataframe tbody tr th:only-of-type {\n",
       "        vertical-align: middle;\n",
       "    }\n",
       "\n",
       "    .dataframe tbody tr th {\n",
       "        vertical-align: top;\n",
       "    }\n",
       "\n",
       "    .dataframe thead th {\n",
       "        text-align: right;\n",
       "    }\n",
       "</style>\n",
       "<table border=\"1\" class=\"dataframe\">\n",
       "  <thead>\n",
       "    <tr style=\"text-align: right;\">\n",
       "      <th></th>\n",
       "      <th>product_id</th>\n",
       "      <th>product_name</th>\n",
       "      <th>category</th>\n",
       "      <th>price</th>\n",
       "      <th>units_sold</th>\n",
       "      <th>supplier</th>\n",
       "      <th>revenue</th>\n",
       "      <th>price_category</th>\n",
       "      <th>high_performer</th>\n",
       "    </tr>\n",
       "  </thead>\n",
       "  <tbody>\n",
       "    <tr>\n",
       "      <th>0</th>\n",
       "      <td>P001</td>\n",
       "      <td>Laptop</td>\n",
       "      <td>Electronics</td>\n",
       "      <td>999</td>\n",
       "      <td>15</td>\n",
       "      <td>TechCorp</td>\n",
       "      <td>14985</td>\n",
       "      <td>High</td>\n",
       "      <td>False</td>\n",
       "    </tr>\n",
       "    <tr>\n",
       "      <th>1</th>\n",
       "      <td>P002</td>\n",
       "      <td>Mouse</td>\n",
       "      <td>Accessories</td>\n",
       "      <td>25</td>\n",
       "      <td>120</td>\n",
       "      <td>AccessCo</td>\n",
       "      <td>3000</td>\n",
       "      <td>Low</td>\n",
       "      <td>True</td>\n",
       "    </tr>\n",
       "    <tr>\n",
       "      <th>2</th>\n",
       "      <td>P003</td>\n",
       "      <td>Keyboard</td>\n",
       "      <td>Accessories</td>\n",
       "      <td>75</td>\n",
       "      <td>85</td>\n",
       "      <td>AccessCo</td>\n",
       "      <td>6375</td>\n",
       "      <td>Low</td>\n",
       "      <td>True</td>\n",
       "    </tr>\n",
       "    <tr>\n",
       "      <th>3</th>\n",
       "      <td>P004</td>\n",
       "      <td>Monitor</td>\n",
       "      <td>Electronics</td>\n",
       "      <td>299</td>\n",
       "      <td>35</td>\n",
       "      <td>TechCorp</td>\n",
       "      <td>10465</td>\n",
       "      <td>Medium</td>\n",
       "      <td>False</td>\n",
       "    </tr>\n",
       "    <tr>\n",
       "      <th>4</th>\n",
       "      <td>P005</td>\n",
       "      <td>Tablet</td>\n",
       "      <td>Electronics</td>\n",
       "      <td>499</td>\n",
       "      <td>28</td>\n",
       "      <td>MobileTech</td>\n",
       "      <td>13972</td>\n",
       "      <td>Medium</td>\n",
       "      <td>False</td>\n",
       "    </tr>\n",
       "    <tr>\n",
       "      <th>5</th>\n",
       "      <td>P006</td>\n",
       "      <td>Phone</td>\n",
       "      <td>Electronics</td>\n",
       "      <td>699</td>\n",
       "      <td>45</td>\n",
       "      <td>MobileTech</td>\n",
       "      <td>31455</td>\n",
       "      <td>High</td>\n",
       "      <td>True</td>\n",
       "    </tr>\n",
       "    <tr>\n",
       "      <th>6</th>\n",
       "      <td>P007</td>\n",
       "      <td>Headphones</td>\n",
       "      <td>Accessories</td>\n",
       "      <td>129</td>\n",
       "      <td>67</td>\n",
       "      <td>AudioTech</td>\n",
       "      <td>8643</td>\n",
       "      <td>Medium</td>\n",
       "      <td>True</td>\n",
       "    </tr>\n",
       "    <tr>\n",
       "      <th>7</th>\n",
       "      <td>P008</td>\n",
       "      <td>Webcam</td>\n",
       "      <td>Accessories</td>\n",
       "      <td>89</td>\n",
       "      <td>23</td>\n",
       "      <td>CameraCo</td>\n",
       "      <td>2047</td>\n",
       "      <td>Low</td>\n",
       "      <td>False</td>\n",
       "    </tr>\n",
       "  </tbody>\n",
       "</table>\n",
       "</div>"
      ],
      "text/plain": [
       "  product_id product_name     category  price  units_sold    supplier  \\\n",
       "0       P001       Laptop  Electronics    999          15    TechCorp   \n",
       "1       P002        Mouse  Accessories     25         120    AccessCo   \n",
       "2       P003     Keyboard  Accessories     75          85    AccessCo   \n",
       "3       P004      Monitor  Electronics    299          35    TechCorp   \n",
       "4       P005       Tablet  Electronics    499          28  MobileTech   \n",
       "5       P006        Phone  Electronics    699          45  MobileTech   \n",
       "6       P007   Headphones  Accessories    129          67   AudioTech   \n",
       "7       P008       Webcam  Accessories     89          23    CameraCo   \n",
       "\n",
       "   revenue price_category  high_performer  \n",
       "0    14985           High           False  \n",
       "1     3000            Low            True  \n",
       "2     6375            Low            True  \n",
       "3    10465         Medium           False  \n",
       "4    13972         Medium           False  \n",
       "5    31455           High            True  \n",
       "6     8643         Medium            True  \n",
       "7     2047            Low           False  "
      ]
     },
     "execution_count": 16,
     "metadata": {},
     "output_type": "execute_result"
    }
   ],
   "source": [
    "# c. Tạo cột `high_performer`:  True if units_sold > median(units_sold)\n",
    "median_units = df_sales['units_sold'].median()\n",
    "df_sales['high_performer'] = df_sales['units_sold'] > median_units\n",
    "df_sales"
   ]
  },
  {
   "cell_type": "markdown",
   "metadata": {},
   "source": [
    "### 4. Xử lý dữ liệu thiếu\n",
    "\n",
    "Khởi tạo một DataFrame về dữ liệu khảo sát dưới đây và thực hiện các yêu cầu::\n",
    "\n",
    "a. Hiển thị số lượng giá trị thiếu trong mỗi cột và phần trăm giá trị thiếu\n",
    "\n",
    "b. Tạo một bản sao chứa dữ liệu đã loại bỏ các dòng có giá trị thiếu\n",
    "\n",
    "c. Tạo một bản sao chứa các giá trị định lượng bị thiếu đã được thay thế bằng giá trị trung bình của cột đó\n",
    "\n",
    "d. Tạo một bản sao chứa dữ liệu thiếu ở cột `city` được thay thế bằng giá trị phổ biến nhất (mode) của cột đó"
   ]
  },
  {
   "cell_type": "code",
   "execution_count": 17,
   "metadata": {},
   "outputs": [],
   "source": [
    "# Create dataset with missing values\n",
    "survey_data = {\n",
    "    'respondent_id': range(1, 11),\n",
    "    'age': [25, 30, None, 35, 28, None, 45, 32, 29, 38],\n",
    "    'income': [50000, None, 45000, 60000, None, 55000, 75000, None, 48000, 62000],\n",
    "    'satisfaction': [4, 5, 3, None, 4, 5, None, 3, 4, 5],\n",
    "    'city': ['NYC', 'LA', 'Chicago', None, 'NYC', 'LA', 'Chicago', 'NYC', None, 'LA']\n",
    "}\n",
    "\n",
    "df_survey = pd.DataFrame(survey_data)"
   ]
  },
  {
   "cell_type": "code",
   "execution_count": 18,
   "metadata": {},
   "outputs": [
    {
     "data": {
      "text/html": [
       "<div>\n",
       "<style scoped>\n",
       "    .dataframe tbody tr th:only-of-type {\n",
       "        vertical-align: middle;\n",
       "    }\n",
       "\n",
       "    .dataframe tbody tr th {\n",
       "        vertical-align: top;\n",
       "    }\n",
       "\n",
       "    .dataframe thead th {\n",
       "        text-align: right;\n",
       "    }\n",
       "</style>\n",
       "<table border=\"1\" class=\"dataframe\">\n",
       "  <thead>\n",
       "    <tr style=\"text-align: right;\">\n",
       "      <th></th>\n",
       "      <th>Missing Count</th>\n",
       "      <th>Missing Percent</th>\n",
       "    </tr>\n",
       "  </thead>\n",
       "  <tbody>\n",
       "    <tr>\n",
       "      <th>respondent_id</th>\n",
       "      <td>0</td>\n",
       "      <td>0.0</td>\n",
       "    </tr>\n",
       "    <tr>\n",
       "      <th>age</th>\n",
       "      <td>2</td>\n",
       "      <td>20.0</td>\n",
       "    </tr>\n",
       "    <tr>\n",
       "      <th>income</th>\n",
       "      <td>3</td>\n",
       "      <td>30.0</td>\n",
       "    </tr>\n",
       "    <tr>\n",
       "      <th>satisfaction</th>\n",
       "      <td>2</td>\n",
       "      <td>20.0</td>\n",
       "    </tr>\n",
       "    <tr>\n",
       "      <th>city</th>\n",
       "      <td>2</td>\n",
       "      <td>20.0</td>\n",
       "    </tr>\n",
       "  </tbody>\n",
       "</table>\n",
       "</div>"
      ],
      "text/plain": [
       "               Missing Count  Missing Percent\n",
       "respondent_id              0              0.0\n",
       "age                        2             20.0\n",
       "income                     3             30.0\n",
       "satisfaction               2             20.0\n",
       "city                       2             20.0"
      ]
     },
     "execution_count": 18,
     "metadata": {},
     "output_type": "execute_result"
    }
   ],
   "source": [
    "# YOUR CODE HERE\n",
    "#a. Hiển thị số lượng giá trị thiếu trong mỗi cột và phần trăm giá trị thiếu\n",
    "missing_count = df_survey.isna().sum()\n",
    "missing_percent = df_survey.isna().mean() * 100\n",
    "\n",
    "missing_summary = pd.DataFrame({\n",
    "    'Missing Count': missing_count,\n",
    "    'Missing Percent': missing_percent\n",
    "})\n",
    "\n",
    "missing_summary"
   ]
  },
  {
   "cell_type": "code",
   "execution_count": 19,
   "metadata": {},
   "outputs": [
    {
     "data": {
      "text/html": [
       "<div>\n",
       "<style scoped>\n",
       "    .dataframe tbody tr th:only-of-type {\n",
       "        vertical-align: middle;\n",
       "    }\n",
       "\n",
       "    .dataframe tbody tr th {\n",
       "        vertical-align: top;\n",
       "    }\n",
       "\n",
       "    .dataframe thead th {\n",
       "        text-align: right;\n",
       "    }\n",
       "</style>\n",
       "<table border=\"1\" class=\"dataframe\">\n",
       "  <thead>\n",
       "    <tr style=\"text-align: right;\">\n",
       "      <th></th>\n",
       "      <th>respondent_id</th>\n",
       "      <th>age</th>\n",
       "      <th>income</th>\n",
       "      <th>satisfaction</th>\n",
       "      <th>city</th>\n",
       "    </tr>\n",
       "  </thead>\n",
       "  <tbody>\n",
       "    <tr>\n",
       "      <th>0</th>\n",
       "      <td>1</td>\n",
       "      <td>25.0</td>\n",
       "      <td>50000.0</td>\n",
       "      <td>4.0</td>\n",
       "      <td>NYC</td>\n",
       "    </tr>\n",
       "    <tr>\n",
       "      <th>9</th>\n",
       "      <td>10</td>\n",
       "      <td>38.0</td>\n",
       "      <td>62000.0</td>\n",
       "      <td>5.0</td>\n",
       "      <td>LA</td>\n",
       "    </tr>\n",
       "  </tbody>\n",
       "</table>\n",
       "</div>"
      ],
      "text/plain": [
       "   respondent_id   age   income  satisfaction city\n",
       "0              1  25.0  50000.0           4.0  NYC\n",
       "9             10  38.0  62000.0           5.0   LA"
      ]
     },
     "execution_count": 19,
     "metadata": {},
     "output_type": "execute_result"
    }
   ],
   "source": [
    "#b. Tạo một bản sao chứa dữ liệu đã loại bỏ các dòng có giá trị thiếu\n",
    "df_survey_dropped = df_survey.dropna()\n",
    "df_survey_dropped"
   ]
  },
  {
   "cell_type": "code",
   "execution_count": 20,
   "metadata": {},
   "outputs": [
    {
     "name": "stderr",
     "output_type": "stream",
     "text": [
      "C:\\Users\\thanh\\AppData\\Local\\Temp\\ipykernel_29212\\4183455845.py:6: FutureWarning: A value is trying to be set on a copy of a DataFrame or Series through chained assignment using an inplace method.\n",
      "The behavior will change in pandas 3.0. This inplace method will never work because the intermediate object on which we are setting values always behaves as a copy.\n",
      "\n",
      "For example, when doing 'df[col].method(value, inplace=True)', try using 'df.method({col: value}, inplace=True)' or df[col] = df[col].method(value) instead, to perform the operation inplace on the original object.\n",
      "\n",
      "\n",
      "  df_filled_mean[col].fillna(df_survey[col].mean(), inplace=True)\n"
     ]
    },
    {
     "data": {
      "text/html": [
       "<div>\n",
       "<style scoped>\n",
       "    .dataframe tbody tr th:only-of-type {\n",
       "        vertical-align: middle;\n",
       "    }\n",
       "\n",
       "    .dataframe tbody tr th {\n",
       "        vertical-align: top;\n",
       "    }\n",
       "\n",
       "    .dataframe thead th {\n",
       "        text-align: right;\n",
       "    }\n",
       "</style>\n",
       "<table border=\"1\" class=\"dataframe\">\n",
       "  <thead>\n",
       "    <tr style=\"text-align: right;\">\n",
       "      <th></th>\n",
       "      <th>respondent_id</th>\n",
       "      <th>age</th>\n",
       "      <th>income</th>\n",
       "      <th>satisfaction</th>\n",
       "      <th>city</th>\n",
       "    </tr>\n",
       "  </thead>\n",
       "  <tbody>\n",
       "    <tr>\n",
       "      <th>0</th>\n",
       "      <td>1</td>\n",
       "      <td>25.00</td>\n",
       "      <td>50000.000000</td>\n",
       "      <td>4.000</td>\n",
       "      <td>NYC</td>\n",
       "    </tr>\n",
       "    <tr>\n",
       "      <th>1</th>\n",
       "      <td>2</td>\n",
       "      <td>30.00</td>\n",
       "      <td>56428.571429</td>\n",
       "      <td>5.000</td>\n",
       "      <td>LA</td>\n",
       "    </tr>\n",
       "    <tr>\n",
       "      <th>2</th>\n",
       "      <td>3</td>\n",
       "      <td>32.75</td>\n",
       "      <td>45000.000000</td>\n",
       "      <td>3.000</td>\n",
       "      <td>Chicago</td>\n",
       "    </tr>\n",
       "    <tr>\n",
       "      <th>3</th>\n",
       "      <td>4</td>\n",
       "      <td>35.00</td>\n",
       "      <td>60000.000000</td>\n",
       "      <td>4.125</td>\n",
       "      <td>None</td>\n",
       "    </tr>\n",
       "    <tr>\n",
       "      <th>4</th>\n",
       "      <td>5</td>\n",
       "      <td>28.00</td>\n",
       "      <td>56428.571429</td>\n",
       "      <td>4.000</td>\n",
       "      <td>NYC</td>\n",
       "    </tr>\n",
       "    <tr>\n",
       "      <th>5</th>\n",
       "      <td>6</td>\n",
       "      <td>32.75</td>\n",
       "      <td>55000.000000</td>\n",
       "      <td>5.000</td>\n",
       "      <td>LA</td>\n",
       "    </tr>\n",
       "    <tr>\n",
       "      <th>6</th>\n",
       "      <td>7</td>\n",
       "      <td>45.00</td>\n",
       "      <td>75000.000000</td>\n",
       "      <td>4.125</td>\n",
       "      <td>Chicago</td>\n",
       "    </tr>\n",
       "    <tr>\n",
       "      <th>7</th>\n",
       "      <td>8</td>\n",
       "      <td>32.00</td>\n",
       "      <td>56428.571429</td>\n",
       "      <td>3.000</td>\n",
       "      <td>NYC</td>\n",
       "    </tr>\n",
       "    <tr>\n",
       "      <th>8</th>\n",
       "      <td>9</td>\n",
       "      <td>29.00</td>\n",
       "      <td>48000.000000</td>\n",
       "      <td>4.000</td>\n",
       "      <td>None</td>\n",
       "    </tr>\n",
       "    <tr>\n",
       "      <th>9</th>\n",
       "      <td>10</td>\n",
       "      <td>38.00</td>\n",
       "      <td>62000.000000</td>\n",
       "      <td>5.000</td>\n",
       "      <td>LA</td>\n",
       "    </tr>\n",
       "  </tbody>\n",
       "</table>\n",
       "</div>"
      ],
      "text/plain": [
       "   respondent_id    age        income  satisfaction     city\n",
       "0              1  25.00  50000.000000         4.000      NYC\n",
       "1              2  30.00  56428.571429         5.000       LA\n",
       "2              3  32.75  45000.000000         3.000  Chicago\n",
       "3              4  35.00  60000.000000         4.125     None\n",
       "4              5  28.00  56428.571429         4.000      NYC\n",
       "5              6  32.75  55000.000000         5.000       LA\n",
       "6              7  45.00  75000.000000         4.125  Chicago\n",
       "7              8  32.00  56428.571429         3.000      NYC\n",
       "8              9  29.00  48000.000000         4.000     None\n",
       "9             10  38.00  62000.000000         5.000       LA"
      ]
     },
     "execution_count": 20,
     "metadata": {},
     "output_type": "execute_result"
    }
   ],
   "source": [
    "#c. Tạo một bản sao chứa các giá trị định lượng bị thiếu đã được thay thế bằng giá trị trung bình của cột đó\n",
    "df_filled_mean = df_survey.copy()\n",
    "quant_cols = ['age', 'income', 'satisfaction']\n",
    "\n",
    "for col in quant_cols:\n",
    "    df_filled_mean[col].fillna(df_survey[col].mean(), inplace=True)\n",
    "\n",
    "df_filled_mean\n",
    "\n",
    "\n"
   ]
  },
  {
   "cell_type": "code",
   "execution_count": 21,
   "metadata": {},
   "outputs": [
    {
     "data": {
      "text/html": [
       "<div>\n",
       "<style scoped>\n",
       "    .dataframe tbody tr th:only-of-type {\n",
       "        vertical-align: middle;\n",
       "    }\n",
       "\n",
       "    .dataframe tbody tr th {\n",
       "        vertical-align: top;\n",
       "    }\n",
       "\n",
       "    .dataframe thead th {\n",
       "        text-align: right;\n",
       "    }\n",
       "</style>\n",
       "<table border=\"1\" class=\"dataframe\">\n",
       "  <thead>\n",
       "    <tr style=\"text-align: right;\">\n",
       "      <th></th>\n",
       "      <th>respondent_id</th>\n",
       "      <th>age</th>\n",
       "      <th>income</th>\n",
       "      <th>satisfaction</th>\n",
       "      <th>city</th>\n",
       "    </tr>\n",
       "  </thead>\n",
       "  <tbody>\n",
       "    <tr>\n",
       "      <th>0</th>\n",
       "      <td>1</td>\n",
       "      <td>25.0</td>\n",
       "      <td>50000.0</td>\n",
       "      <td>4.0</td>\n",
       "      <td>NYC</td>\n",
       "    </tr>\n",
       "    <tr>\n",
       "      <th>1</th>\n",
       "      <td>2</td>\n",
       "      <td>30.0</td>\n",
       "      <td>NaN</td>\n",
       "      <td>5.0</td>\n",
       "      <td>LA</td>\n",
       "    </tr>\n",
       "    <tr>\n",
       "      <th>2</th>\n",
       "      <td>3</td>\n",
       "      <td>NaN</td>\n",
       "      <td>45000.0</td>\n",
       "      <td>3.0</td>\n",
       "      <td>Chicago</td>\n",
       "    </tr>\n",
       "    <tr>\n",
       "      <th>3</th>\n",
       "      <td>4</td>\n",
       "      <td>35.0</td>\n",
       "      <td>60000.0</td>\n",
       "      <td>NaN</td>\n",
       "      <td>LA</td>\n",
       "    </tr>\n",
       "    <tr>\n",
       "      <th>4</th>\n",
       "      <td>5</td>\n",
       "      <td>28.0</td>\n",
       "      <td>NaN</td>\n",
       "      <td>4.0</td>\n",
       "      <td>NYC</td>\n",
       "    </tr>\n",
       "    <tr>\n",
       "      <th>5</th>\n",
       "      <td>6</td>\n",
       "      <td>NaN</td>\n",
       "      <td>55000.0</td>\n",
       "      <td>5.0</td>\n",
       "      <td>LA</td>\n",
       "    </tr>\n",
       "    <tr>\n",
       "      <th>6</th>\n",
       "      <td>7</td>\n",
       "      <td>45.0</td>\n",
       "      <td>75000.0</td>\n",
       "      <td>NaN</td>\n",
       "      <td>Chicago</td>\n",
       "    </tr>\n",
       "    <tr>\n",
       "      <th>7</th>\n",
       "      <td>8</td>\n",
       "      <td>32.0</td>\n",
       "      <td>NaN</td>\n",
       "      <td>3.0</td>\n",
       "      <td>NYC</td>\n",
       "    </tr>\n",
       "    <tr>\n",
       "      <th>8</th>\n",
       "      <td>9</td>\n",
       "      <td>29.0</td>\n",
       "      <td>48000.0</td>\n",
       "      <td>4.0</td>\n",
       "      <td>LA</td>\n",
       "    </tr>\n",
       "    <tr>\n",
       "      <th>9</th>\n",
       "      <td>10</td>\n",
       "      <td>38.0</td>\n",
       "      <td>62000.0</td>\n",
       "      <td>5.0</td>\n",
       "      <td>LA</td>\n",
       "    </tr>\n",
       "  </tbody>\n",
       "</table>\n",
       "</div>"
      ],
      "text/plain": [
       "   respondent_id   age   income  satisfaction     city\n",
       "0              1  25.0  50000.0           4.0      NYC\n",
       "1              2  30.0      NaN           5.0       LA\n",
       "2              3   NaN  45000.0           3.0  Chicago\n",
       "3              4  35.0  60000.0           NaN       LA\n",
       "4              5  28.0      NaN           4.0      NYC\n",
       "5              6   NaN  55000.0           5.0       LA\n",
       "6              7  45.0  75000.0           NaN  Chicago\n",
       "7              8  32.0      NaN           3.0      NYC\n",
       "8              9  29.0  48000.0           4.0       LA\n",
       "9             10  38.0  62000.0           5.0       LA"
      ]
     },
     "execution_count": 21,
     "metadata": {},
     "output_type": "execute_result"
    }
   ],
   "source": [
    "#d. Tạo một bản sao chứa dữ liệu thiếu ở cột `city` được thay thế bằng giá trị phổ biến nhất (mode) của cột đó\n",
    "df_survey_city_filled = df_survey.copy()\n",
    "df_survey_city_filled['city'] = df_survey_city_filled['city'].fillna(df_survey_city_filled['city'].mode()[0])\n",
    "df_survey_city_filled\n"
   ]
  },
  {
   "cell_type": "markdown",
   "metadata": {},
   "source": [
    "### 5. Gom nhóm và tổng hợp\n",
    "\n",
    "Sử dụng DataFrame `df_sales` đã tạo ở trên và thực hiện các yêu cầu:\n",
    "\n",
    "a. Tính giá trung bình và tổng doanh thu theo từng loại sản phẩm (`category`)\n",
    "\n",
    "b. Đếm số sản phẩm theo từng nhà cung cấp (`supplier`)\n",
    "\n",
    "c. Tính min, max, mean và độ lệch chuẩn về giá theo từng loại sản phẩm (`category`)\n",
    "\n",
    "d. Tính miền giá trị (range) về số lượng sản phẩm đã bán (`units_sold) theo từng nhà cung cấp (`supplier`)"
   ]
  },
  {
   "cell_type": "code",
   "execution_count": 22,
   "metadata": {},
   "outputs": [
    {
     "data": {
      "text/html": [
       "<div>\n",
       "<style scoped>\n",
       "    .dataframe tbody tr th:only-of-type {\n",
       "        vertical-align: middle;\n",
       "    }\n",
       "\n",
       "    .dataframe tbody tr th {\n",
       "        vertical-align: top;\n",
       "    }\n",
       "\n",
       "    .dataframe thead th {\n",
       "        text-align: right;\n",
       "    }\n",
       "</style>\n",
       "<table border=\"1\" class=\"dataframe\">\n",
       "  <thead>\n",
       "    <tr style=\"text-align: right;\">\n",
       "      <th></th>\n",
       "      <th>avg_price</th>\n",
       "      <th>total_revenue</th>\n",
       "    </tr>\n",
       "    <tr>\n",
       "      <th>category</th>\n",
       "      <th></th>\n",
       "      <th></th>\n",
       "    </tr>\n",
       "  </thead>\n",
       "  <tbody>\n",
       "    <tr>\n",
       "      <th>Accessories</th>\n",
       "      <td>79.5</td>\n",
       "      <td>20065</td>\n",
       "    </tr>\n",
       "    <tr>\n",
       "      <th>Electronics</th>\n",
       "      <td>624.0</td>\n",
       "      <td>70877</td>\n",
       "    </tr>\n",
       "  </tbody>\n",
       "</table>\n",
       "</div>"
      ],
      "text/plain": [
       "             avg_price  total_revenue\n",
       "category                             \n",
       "Accessories       79.5          20065\n",
       "Electronics      624.0          70877"
      ]
     },
     "execution_count": 22,
     "metadata": {},
     "output_type": "execute_result"
    }
   ],
   "source": [
    "# YOUR CODE HERE\n",
    "#a. Giá trung bình và tổng doanh thu theo từng loại sản phẩm (category)\n",
    "df_sales.groupby('category').agg(\n",
    "    avg_price=('price', 'mean'),\n",
    "    total_revenue=('revenue', 'sum')\n",
    ")\n"
   ]
  },
  {
   "cell_type": "code",
   "execution_count": 23,
   "metadata": {},
   "outputs": [
    {
     "data": {
      "text/html": [
       "<div>\n",
       "<style scoped>\n",
       "    .dataframe tbody tr th:only-of-type {\n",
       "        vertical-align: middle;\n",
       "    }\n",
       "\n",
       "    .dataframe tbody tr th {\n",
       "        vertical-align: top;\n",
       "    }\n",
       "\n",
       "    .dataframe thead th {\n",
       "        text-align: right;\n",
       "    }\n",
       "</style>\n",
       "<table border=\"1\" class=\"dataframe\">\n",
       "  <thead>\n",
       "    <tr style=\"text-align: right;\">\n",
       "      <th></th>\n",
       "      <th>supplier</th>\n",
       "      <th>product_count</th>\n",
       "    </tr>\n",
       "  </thead>\n",
       "  <tbody>\n",
       "    <tr>\n",
       "      <th>0</th>\n",
       "      <td>AccessCo</td>\n",
       "      <td>2</td>\n",
       "    </tr>\n",
       "    <tr>\n",
       "      <th>1</th>\n",
       "      <td>AudioTech</td>\n",
       "      <td>1</td>\n",
       "    </tr>\n",
       "    <tr>\n",
       "      <th>2</th>\n",
       "      <td>CameraCo</td>\n",
       "      <td>1</td>\n",
       "    </tr>\n",
       "    <tr>\n",
       "      <th>3</th>\n",
       "      <td>MobileTech</td>\n",
       "      <td>2</td>\n",
       "    </tr>\n",
       "    <tr>\n",
       "      <th>4</th>\n",
       "      <td>TechCorp</td>\n",
       "      <td>2</td>\n",
       "    </tr>\n",
       "  </tbody>\n",
       "</table>\n",
       "</div>"
      ],
      "text/plain": [
       "     supplier  product_count\n",
       "0    AccessCo              2\n",
       "1   AudioTech              1\n",
       "2    CameraCo              1\n",
       "3  MobileTech              2\n",
       "4    TechCorp              2"
      ]
     },
     "execution_count": 23,
     "metadata": {},
     "output_type": "execute_result"
    }
   ],
   "source": [
    "#b. Đếm số sản phẩm theo từng nhà cung cấp (supplier)\n",
    "df_sales.groupby('supplier')['product_id'].count().reset_index(name='product_count')\n"
   ]
  },
  {
   "cell_type": "code",
   "execution_count": 24,
   "metadata": {},
   "outputs": [
    {
     "data": {
      "text/html": [
       "<div>\n",
       "<style scoped>\n",
       "    .dataframe tbody tr th:only-of-type {\n",
       "        vertical-align: middle;\n",
       "    }\n",
       "\n",
       "    .dataframe tbody tr th {\n",
       "        vertical-align: top;\n",
       "    }\n",
       "\n",
       "    .dataframe thead th {\n",
       "        text-align: right;\n",
       "    }\n",
       "</style>\n",
       "<table border=\"1\" class=\"dataframe\">\n",
       "  <thead>\n",
       "    <tr style=\"text-align: right;\">\n",
       "      <th></th>\n",
       "      <th>category</th>\n",
       "      <th>min</th>\n",
       "      <th>max</th>\n",
       "      <th>mean</th>\n",
       "      <th>std</th>\n",
       "    </tr>\n",
       "  </thead>\n",
       "  <tbody>\n",
       "    <tr>\n",
       "      <th>0</th>\n",
       "      <td>Accessories</td>\n",
       "      <td>25</td>\n",
       "      <td>129</td>\n",
       "      <td>79.5</td>\n",
       "      <td>42.937940</td>\n",
       "    </tr>\n",
       "    <tr>\n",
       "      <th>1</th>\n",
       "      <td>Electronics</td>\n",
       "      <td>299</td>\n",
       "      <td>999</td>\n",
       "      <td>624.0</td>\n",
       "      <td>298.607881</td>\n",
       "    </tr>\n",
       "  </tbody>\n",
       "</table>\n",
       "</div>"
      ],
      "text/plain": [
       "      category  min  max   mean         std\n",
       "0  Accessories   25  129   79.5   42.937940\n",
       "1  Electronics  299  999  624.0  298.607881"
      ]
     },
     "execution_count": 24,
     "metadata": {},
     "output_type": "execute_result"
    }
   ],
   "source": [
    "# c. Tính min, max, mean và độ lệch chuẩn về giá theo từng loại sản phẩm (category)\n",
    "df_sales.groupby('category')['price'].agg(['min', 'max', 'mean', 'std']).reset_index()"
   ]
  },
  {
   "cell_type": "code",
   "execution_count": 25,
   "metadata": {},
   "outputs": [
    {
     "data": {
      "text/html": [
       "<div>\n",
       "<style scoped>\n",
       "    .dataframe tbody tr th:only-of-type {\n",
       "        vertical-align: middle;\n",
       "    }\n",
       "\n",
       "    .dataframe tbody tr th {\n",
       "        vertical-align: top;\n",
       "    }\n",
       "\n",
       "    .dataframe thead th {\n",
       "        text-align: right;\n",
       "    }\n",
       "</style>\n",
       "<table border=\"1\" class=\"dataframe\">\n",
       "  <thead>\n",
       "    <tr style=\"text-align: right;\">\n",
       "      <th></th>\n",
       "      <th>supplier</th>\n",
       "      <th>units_sold_range</th>\n",
       "    </tr>\n",
       "  </thead>\n",
       "  <tbody>\n",
       "    <tr>\n",
       "      <th>0</th>\n",
       "      <td>AccessCo</td>\n",
       "      <td>35</td>\n",
       "    </tr>\n",
       "    <tr>\n",
       "      <th>1</th>\n",
       "      <td>AudioTech</td>\n",
       "      <td>0</td>\n",
       "    </tr>\n",
       "    <tr>\n",
       "      <th>2</th>\n",
       "      <td>CameraCo</td>\n",
       "      <td>0</td>\n",
       "    </tr>\n",
       "    <tr>\n",
       "      <th>3</th>\n",
       "      <td>MobileTech</td>\n",
       "      <td>17</td>\n",
       "    </tr>\n",
       "    <tr>\n",
       "      <th>4</th>\n",
       "      <td>TechCorp</td>\n",
       "      <td>20</td>\n",
       "    </tr>\n",
       "  </tbody>\n",
       "</table>\n",
       "</div>"
      ],
      "text/plain": [
       "     supplier  units_sold_range\n",
       "0    AccessCo                35\n",
       "1   AudioTech                 0\n",
       "2    CameraCo                 0\n",
       "3  MobileTech                17\n",
       "4    TechCorp                20"
      ]
     },
     "execution_count": 25,
     "metadata": {},
     "output_type": "execute_result"
    }
   ],
   "source": [
    "#d. Tính miền giá trị (range) về số lượng sản phẩm đã bán (units_sold) theo từng nhà cung cấp (supplier)\n",
    "df_sales.groupby('supplier')['units_sold'].agg(lambda x: x.max() - x.min()).reset_index(name='units_sold_range')"
   ]
  },
  {
   "cell_type": "markdown",
   "metadata": {},
   "source": [
    "---\n",
    "\n",
    "## STATISTICAL ANALYSIS\n",
    "\n"
   ]
  },
  {
   "cell_type": "markdown",
   "metadata": {},
   "source": [
    "### 6. Xu hướng tập trung\n",
    "\n",
    "Cho 4 datasets sau, với mỗi dataset bạn hãy lựa chọn độ đo thích hợp để mô tả xu hướng tập trung của dữ liệu và giải thích lý do:"
   ]
  },
  {
   "cell_type": "code",
   "execution_count": 26,
   "metadata": {},
   "outputs": [
    {
     "name": "stdout",
     "output_type": "stream",
     "text": [
      "TASK: For each dataset, calculate appropriate measures of central tendency and explain your choice:\n",
      "Dataset 1 (Test scores): [85, 87, 90, 92, 95, 88, 91, 89, 86, 93]\n",
      "Dataset 2 (Salaries): [25000, 28000, 30000, 32000, 150000, 29000, 31000, 27000, 33000, 26000]\n",
      "Dataset 3 (Growth rates): [1.05, 0.98, 1.12, 0.95, 1.08, 1.03, 0.92, 1.15, 1.07, 0.99]\n",
      "Dataset 4 (Colors): ['Red', 'Blue', 'Blue', 'Green', 'Blue', 'Red', 'Yellow', 'Blue', 'Green', 'Blue']\n"
     ]
    }
   ],
   "source": [
    "# Create sample datasets for different scenarios\n",
    "dataset1 = [85, 87, 90, 92, 95, 88, 91, 89, 86, 93]  # Symmetric\n",
    "dataset2 = [25000, 28000, 30000, 32000, 150000, 29000, 31000, 27000, 33000, 26000]  # Right-skewed\n",
    "dataset3 = [1.05, 0.98, 1.12, 0.95, 1.08, 1.03, 0.92, 1.15, 1.07, 0.99]  # Growth factors\n",
    "dataset4 = ['Red', 'Blue', 'Blue', 'Green', 'Blue', 'Red', 'Yellow', 'Blue', 'Green', 'Blue']  # Categorical\n",
    "\n",
    "print(\"TASK: For each dataset, calculate appropriate measures of central tendency and explain your choice:\")\n",
    "print(\"Dataset 1 (Test scores):\", dataset1)\n",
    "print(\"Dataset 2 (Salaries):\", dataset2) \n",
    "print(\"Dataset 3 (Growth rates):\", dataset3)\n",
    "print(\"Dataset 4 (Colors):\", dataset4)"
   ]
  },
  {
   "cell_type": "markdown",
   "metadata": {},
   "source": [
    "**YOUR ANSWER HERE**"
   ]
  },
  {
   "cell_type": "code",
   "execution_count": null,
   "metadata": {},
   "outputs": [
    {
     "name": "stdout",
     "output_type": "stream",
     "text": [
      "Dataset 1 (Test scores) - Mean: 89.6\n",
      "Dataset 2 (Salaries) - Median: 29500.0\n",
      "Dataset 3 (Growth rates) - Mean: 1.0340000000000003\n",
      "Dataset 4 (Colors) - Mode: Blue\n"
     ]
    }
   ],
   "source": [
    "# YOUR CODE HERE\n",
    "import numpy as np\n",
    "import pandas as pd\n",
    "\n",
    "# Datasets\n",
    "dataset1 = [85, 87, 90, 92, 95, 88, 91, 89, 86, 93]  # Symmetric\n",
    "dataset2 = [25000, 28000, 30000, 32000, 150000, 29000, 31000, 27000, 33000, 26000]  # Right-skewed\n",
    "dataset3 = [1.05, 0.98, 1.12, 0.95, 1.08, 1.03, 0.92, 1.15, 1.07, 0.99]  # Growth factors\n",
    "dataset4 = ['Red', 'Blue', 'Blue', 'Green', 'Blue', 'Red', 'Yellow', 'Blue', 'Green', 'Blue']  # Categorical\n",
    "\n",
    "mean1 = np.mean(dataset1)\n",
    "\n",
    "median2 = np.median(dataset2)\n",
    "\n",
    "mean3 = np.mean(dataset3)\n",
    "\n",
    "mode4 = pd.Series(dataset4).mode()[0]\n",
    "\n",
    "print(\"Dataset 1 (Test scores) - Mean:\", mean1)\n",
    "print(\"Dataset 2 (Salaries) - Median:\", median2)\n",
    "print(\"Dataset 3 (Growth rates) - Mean:\", mean3)\n",
    "print(\"Dataset 4 (Colors) - Mode:\", mode4)\n"
   ]
  },
  {
   "cell_type": "markdown",
   "metadata": {},
   "source": [
    "### 7. Độ đo phân tán\n",
    "\n",
    "Cho một bộ dữ liệu mẫu `sample_data`, bạn hãy thực hiện:\n",
    "\n",
    "a. Tính phương sai tổng thể (giả sử như sample_data là toàn bộ tổng thể)\n",
    "b. Tính phương sai mẫu (giả sử như sample_data là một mẫu từ tổng thể lớn hơn)\n",
    "c. Giải thích sự khác biệt giữa phương sai tổng thể và phương sai mẫu. Giải thích khái niệm bậc tự do (degrees of freedom) trong tính toán phương sai mẫu.\n",
    "d. Tính các đại lượng: miền giá trị (range), miền phân vị (IQR) và hệ số biến thiên (coefficient of variation - CV) . Bạn hãy trình bày ý nghĩa của mỗi đại lượng."
   ]
  },
  {
   "cell_type": "code",
   "execution_count": 29,
   "metadata": {},
   "outputs": [],
   "source": [
    "sample_data = [12, 15, 18, 21, 24, 27, 30]"
   ]
  },
  {
   "cell_type": "markdown",
   "metadata": {},
   "source": [
    "**YOUR ANSWER HERE**"
   ]
  },
  {
   "cell_type": "code",
   "execution_count": null,
   "metadata": {},
   "outputs": [
    {
     "data": {
      "text/plain": [
       "36.0"
      ]
     },
     "execution_count": 30,
     "metadata": {},
     "output_type": "execute_result"
    }
   ],
   "source": [
    "# YOUR CODE HERE\n",
    "# a. Phương sai tổng thể (Population variance)\n",
    "import numpy as np\n",
    "\n",
    "sample_data = [12, 15, 18, 21, 24, 27, 30]\n",
    "\n",
    "population_variance = np.var(sample_data, ddof=0)\n",
    "population_variance\n"
   ]
  },
  {
   "cell_type": "code",
   "execution_count": 31,
   "metadata": {},
   "outputs": [
    {
     "data": {
      "text/plain": [
       "42.0"
      ]
     },
     "execution_count": 31,
     "metadata": {},
     "output_type": "execute_result"
    }
   ],
   "source": [
    "#b. Tính phương sai mẫu (giả sử như sample_data là một mẫu từ tổng thể lớn hơn)\n",
    "sample_variance = np.var(sample_data, ddof=1)\n",
    "sample_variance\n"
   ]
  },
  {
   "cell_type": "markdown",
   "metadata": {},
   "source": [
    "c. Giải thích\n",
    "Phương sai tổng thể: chia cho N, dùng khi có toàn bộ dữ liệu.\n",
    "\n",
    "Phương sai mẫu: chia cho n-1, dùng khi chỉ có mẫu để ước lượng chính xác phương sai tổng thể.\n",
    "\n",
    "Bậc tự do (df = n-1): số giá trị độc lập còn lại sau khi đã dùng trung bình mẫu."
   ]
  },
  {
   "cell_type": "code",
   "execution_count": 33,
   "metadata": {},
   "outputs": [
    {
     "data": {
      "text/plain": [
       "18"
      ]
     },
     "execution_count": 33,
     "metadata": {},
     "output_type": "execute_result"
    }
   ],
   "source": [
    "# d. Tính các đại lượng: miền giá trị (range), miền phân vị (IQR) và hệ số biến thiên (coefficient of variation - CV) .\n",
    "# Bạn hãy trình bày ý nghĩa của mỗi đại lượng.\n",
    "data_range = np.max(sample_data) - np.min(sample_data)\n",
    "data_range\n"
   ]
  },
  {
   "cell_type": "code",
   "execution_count": 34,
   "metadata": {},
   "outputs": [
    {
     "data": {
      "text/plain": [
       "9.0"
      ]
     },
     "execution_count": 34,
     "metadata": {},
     "output_type": "execute_result"
    }
   ],
   "source": [
    "Q1 = np.percentile(sample_data, 25)\n",
    "Q3 = np.percentile(sample_data, 75)\n",
    "IQR = Q3 - Q1\n",
    "IQR"
   ]
  },
  {
   "cell_type": "code",
   "execution_count": 35,
   "metadata": {},
   "outputs": [
    {
     "data": {
      "text/plain": [
       "0.3086066999241838"
      ]
     },
     "execution_count": 35,
     "metadata": {},
     "output_type": "execute_result"
    }
   ],
   "source": [
    "mean_data = np.mean(sample_data)\n",
    "std_data = np.std(sample_data, ddof=1)  # SD mẫu\n",
    "CV = std_data / mean_data\n",
    "CV"
   ]
  },
  {
   "cell_type": "markdown",
   "metadata": {},
   "source": [
    "### 8. Thống kê\n",
    "\n",
    "Chạy câu lệnh bên dưới để sinh dữ liệu `exam_scores` gồm 50 điểm thi của sinh viên trong một kỳ thi. Thực hiện các yêu cầu:\n",
    "\n",
    "a. Tính các đại lượng thống kê cơ bản của mỗi môn học\n",
    "b. Với mỗi môn học, xác định độ đo phù hợp để mô tả xu hướng tập trung và độ đo phân tán của điểm thi. Giải thích lý do.\n",
    "c. Tạo một bảng thống kê tóm tắt (summary table) cho mỗi môn học, bao gồm các đại lượng thống kê đã tính ở trên."
   ]
  },
  {
   "cell_type": "code",
   "execution_count": 36,
   "metadata": {},
   "outputs": [],
   "source": [
    "# Load a real dataset for comprehensive analysis\n",
    "exam_scores = pd.DataFrame({\n",
    "    'student_id': range(1, 51),\n",
    "    'math_score': np.random.normal(75, 12, 50).astype(int),\n",
    "    'english_score': np.random.normal(80, 10, 50).astype(int),\n",
    "    'science_score': np.random.normal(78, 15, 50).astype(int),\n",
    "    'total_score': lambda x: x.math_score + x.english_score + x.science_score\n",
    "})"
   ]
  },
  {
   "cell_type": "code",
   "execution_count": 37,
   "metadata": {},
   "outputs": [
    {
     "data": {
      "text/html": [
       "<div>\n",
       "<style scoped>\n",
       "    .dataframe tbody tr th:only-of-type {\n",
       "        vertical-align: middle;\n",
       "    }\n",
       "\n",
       "    .dataframe tbody tr th {\n",
       "        vertical-align: top;\n",
       "    }\n",
       "\n",
       "    .dataframe thead th {\n",
       "        text-align: right;\n",
       "    }\n",
       "</style>\n",
       "<table border=\"1\" class=\"dataframe\">\n",
       "  <thead>\n",
       "    <tr style=\"text-align: right;\">\n",
       "      <th></th>\n",
       "      <th>math_score</th>\n",
       "      <th>english_score</th>\n",
       "      <th>science_score</th>\n",
       "    </tr>\n",
       "  </thead>\n",
       "  <tbody>\n",
       "    <tr>\n",
       "      <th>count</th>\n",
       "      <td>50.000000</td>\n",
       "      <td>50.000000</td>\n",
       "      <td>50.000000</td>\n",
       "    </tr>\n",
       "    <tr>\n",
       "      <th>mean</th>\n",
       "      <td>73.840000</td>\n",
       "      <td>79.940000</td>\n",
       "      <td>75.180000</td>\n",
       "    </tr>\n",
       "    <tr>\n",
       "      <th>std</th>\n",
       "      <td>10.194757</td>\n",
       "      <td>8.883394</td>\n",
       "      <td>12.960993</td>\n",
       "    </tr>\n",
       "    <tr>\n",
       "      <th>min</th>\n",
       "      <td>51.000000</td>\n",
       "      <td>62.000000</td>\n",
       "      <td>45.000000</td>\n",
       "    </tr>\n",
       "    <tr>\n",
       "      <th>25%</th>\n",
       "      <td>69.250000</td>\n",
       "      <td>74.250000</td>\n",
       "      <td>68.500000</td>\n",
       "    </tr>\n",
       "    <tr>\n",
       "      <th>50%</th>\n",
       "      <td>75.500000</td>\n",
       "      <td>79.000000</td>\n",
       "      <td>75.000000</td>\n",
       "    </tr>\n",
       "    <tr>\n",
       "      <th>75%</th>\n",
       "      <td>78.750000</td>\n",
       "      <td>86.750000</td>\n",
       "      <td>82.000000</td>\n",
       "    </tr>\n",
       "    <tr>\n",
       "      <th>max</th>\n",
       "      <td>99.000000</td>\n",
       "      <td>102.000000</td>\n",
       "      <td>105.000000</td>\n",
       "    </tr>\n",
       "    <tr>\n",
       "      <th>IQR</th>\n",
       "      <td>9.500000</td>\n",
       "      <td>12.500000</td>\n",
       "      <td>13.500000</td>\n",
       "    </tr>\n",
       "  </tbody>\n",
       "</table>\n",
       "</div>"
      ],
      "text/plain": [
       "       math_score  english_score  science_score\n",
       "count   50.000000      50.000000      50.000000\n",
       "mean    73.840000      79.940000      75.180000\n",
       "std     10.194757       8.883394      12.960993\n",
       "min     51.000000      62.000000      45.000000\n",
       "25%     69.250000      74.250000      68.500000\n",
       "50%     75.500000      79.000000      75.000000\n",
       "75%     78.750000      86.750000      82.000000\n",
       "max     99.000000     102.000000     105.000000\n",
       "IQR      9.500000      12.500000      13.500000"
      ]
     },
     "execution_count": 37,
     "metadata": {},
     "output_type": "execute_result"
    }
   ],
   "source": [
    "# YOUR CODE HERE\n",
    "# a. Tính các đại lượng thống kê cơ bản\n",
    "summary_stats = exam_scores[['math_score','english_score','science_score']].describe()\n",
    "summary_stats.loc['IQR'] = summary_stats.loc['75%'] - summary_stats.loc['25%']\n",
    "summary_stats\n"
   ]
  },
  {
   "cell_type": "markdown",
   "metadata": {},
   "source": [
    "b. Độ đo phù hợp để mô tả xu hướng tập trung và độ đo phân tán\n",
    "\n",
    "Các môn học là numeric, phân phối gần đối xứng (Normal), không có outlier quá lớn:\n",
    "\n",
    "Xu hướng tập trung: Mean (trung bình)\n",
    "\n",
    "Độ đo phân tán: Standard deviation (SD) và IQR\n",
    "\n",
    "Lý do: mean phản ánh giá trị trung bình, SD đo độ phân tán quanh mean, IQR cho biết miền 50% trung tâm, ít nhạy với outlier."
   ]
  },
  {
   "cell_type": "code",
   "execution_count": 38,
   "metadata": {},
   "outputs": [
    {
     "data": {
      "text/html": [
       "<div>\n",
       "<style scoped>\n",
       "    .dataframe tbody tr th:only-of-type {\n",
       "        vertical-align: middle;\n",
       "    }\n",
       "\n",
       "    .dataframe tbody tr th {\n",
       "        vertical-align: top;\n",
       "    }\n",
       "\n",
       "    .dataframe thead th {\n",
       "        text-align: right;\n",
       "    }\n",
       "</style>\n",
       "<table border=\"1\" class=\"dataframe\">\n",
       "  <thead>\n",
       "    <tr style=\"text-align: right;\">\n",
       "      <th></th>\n",
       "      <th>Mean</th>\n",
       "      <th>Median</th>\n",
       "      <th>Std</th>\n",
       "      <th>Min</th>\n",
       "      <th>Max</th>\n",
       "      <th>Q1</th>\n",
       "      <th>Q3</th>\n",
       "      <th>IQR</th>\n",
       "    </tr>\n",
       "  </thead>\n",
       "  <tbody>\n",
       "    <tr>\n",
       "      <th>math_score</th>\n",
       "      <td>73.84</td>\n",
       "      <td>75.5</td>\n",
       "      <td>10.194757</td>\n",
       "      <td>51</td>\n",
       "      <td>99</td>\n",
       "      <td>69.25</td>\n",
       "      <td>78.75</td>\n",
       "      <td>9.5</td>\n",
       "    </tr>\n",
       "    <tr>\n",
       "      <th>english_score</th>\n",
       "      <td>79.94</td>\n",
       "      <td>79.0</td>\n",
       "      <td>8.883394</td>\n",
       "      <td>62</td>\n",
       "      <td>102</td>\n",
       "      <td>74.25</td>\n",
       "      <td>86.75</td>\n",
       "      <td>12.5</td>\n",
       "    </tr>\n",
       "    <tr>\n",
       "      <th>science_score</th>\n",
       "      <td>75.18</td>\n",
       "      <td>75.0</td>\n",
       "      <td>12.960993</td>\n",
       "      <td>45</td>\n",
       "      <td>105</td>\n",
       "      <td>68.50</td>\n",
       "      <td>82.00</td>\n",
       "      <td>13.5</td>\n",
       "    </tr>\n",
       "  </tbody>\n",
       "</table>\n",
       "</div>"
      ],
      "text/plain": [
       "                Mean  Median        Std  Min  Max     Q1     Q3   IQR\n",
       "math_score     73.84    75.5  10.194757   51   99  69.25  78.75   9.5\n",
       "english_score  79.94    79.0   8.883394   62  102  74.25  86.75  12.5\n",
       "science_score  75.18    75.0  12.960993   45  105  68.50  82.00  13.5"
      ]
     },
     "execution_count": 38,
     "metadata": {},
     "output_type": "execute_result"
    }
   ],
   "source": [
    "# c. Tạo bảng thống kê tóm tắt (summary table)\n",
    "summary_table = pd.DataFrame({\n",
    "    'Mean': exam_scores[['math_score','english_score','science_score']].mean(),\n",
    "    'Median': exam_scores[['math_score','english_score','science_score']].median(),\n",
    "    'Std': exam_scores[['math_score','english_score','science_score']].std(),\n",
    "    'Min': exam_scores[['math_score','english_score','science_score']].min(),\n",
    "    'Max': exam_scores[['math_score','english_score','science_score']].max(),\n",
    "    'Q1': exam_scores[['math_score','english_score','science_score']].quantile(0.25),\n",
    "    'Q3': exam_scores[['math_score','english_score','science_score']].quantile(0.75),\n",
    "    'IQR': exam_scores[['math_score','english_score','science_score']].quantile(0.75) -\n",
    "           exam_scores[['math_score','english_score','science_score']].quantile(0.25)\n",
    "})\n",
    "\n",
    "summary_table\n"
   ]
  },
  {
   "cell_type": "markdown",
   "metadata": {},
   "source": [
    "---\n",
    "\n",
    "## SEABORN"
   ]
  },
  {
   "cell_type": "markdown",
   "metadata": {},
   "source": [
    "### 9. `tips` dataset\n",
    "\n",
    "Sử dụng dataset `tips` từ seaborn, bạn hãy thực hiện:\n",
    "\n",
    "a. Khám phá cấu trúc của dataset và xử lý giá trị thiếu (nếu có)\n",
    "\n",
    "b. Tính các đại lượng thống kê cơ bản cho tất cả các biến\n",
    "\n",
    "c. So sánh tiền tip trung bình giữa các nhóm khác nhau theo ngày, thời gian (day, time)\n",
    "\n",
    "d. Phân tích mối quan hệ giữa tổng hóa đơn (total_bill) và tiền tip (tip)\n",
    "\n",
    "e. Vẽ histogram của tiền tip\n",
    "\n",
    "f. Vẽ box plot để so sánh tiền tip giữa các ngày trong tuần"
   ]
  },
  {
   "cell_type": "code",
   "execution_count": 39,
   "metadata": {},
   "outputs": [],
   "source": [
    "# YOUR CODE HERE\n",
    "import seaborn as sns\n",
    "import pandas as pd\n",
    "import matplotlib.pyplot as plt\n",
    "\n",
    "# Load dataset tips\n",
    "tips = sns.load_dataset('tips')\n"
   ]
  },
  {
   "cell_type": "markdown",
   "metadata": {},
   "source": [
    "a. Khám phá cấu trúc và xử lý giá trị thiếu"
   ]
  },
  {
   "cell_type": "code",
   "execution_count": 40,
   "metadata": {},
   "outputs": [
    {
     "name": "stdout",
     "output_type": "stream",
     "text": [
      "<class 'pandas.core.frame.DataFrame'>\n",
      "RangeIndex: 244 entries, 0 to 243\n",
      "Data columns (total 7 columns):\n",
      " #   Column      Non-Null Count  Dtype   \n",
      "---  ------      --------------  -----   \n",
      " 0   total_bill  244 non-null    float64 \n",
      " 1   tip         244 non-null    float64 \n",
      " 2   sex         244 non-null    category\n",
      " 3   smoker      244 non-null    category\n",
      " 4   day         244 non-null    category\n",
      " 5   time        244 non-null    category\n",
      " 6   size        244 non-null    int64   \n",
      "dtypes: category(4), float64(2), int64(1)\n",
      "memory usage: 7.4 KB\n"
     ]
    },
    {
     "data": {
      "text/plain": [
       "total_bill    0\n",
       "tip           0\n",
       "sex           0\n",
       "smoker        0\n",
       "day           0\n",
       "time          0\n",
       "size          0\n",
       "dtype: int64"
      ]
     },
     "execution_count": 40,
     "metadata": {},
     "output_type": "execute_result"
    }
   ],
   "source": [
    "# Thông tin tổng quan\n",
    "tips.info()\n",
    "\n",
    "# Hiển thị 5 dòng đầu\n",
    "tips.head()\n",
    "\n",
    "# Kiểm tra giá trị thiếu\n",
    "tips.isna().sum()\n"
   ]
  },
  {
   "cell_type": "markdown",
   "metadata": {},
   "source": [
    "b. Thống kê cơ bản cho tất cả các biến"
   ]
  },
  {
   "cell_type": "code",
   "execution_count": 43,
   "metadata": {},
   "outputs": [
    {
     "name": "stdout",
     "output_type": "stream",
     "text": [
      "=== Numeric Summary ===\n",
      "        total_bill         tip        size\n",
      "count   244.000000  244.000000  244.000000\n",
      "mean     19.785943    2.998279    2.569672\n",
      "median   17.795000    2.900000    2.000000\n",
      "std       8.902412    1.383638    0.951100\n",
      "min       3.070000    1.000000    1.000000\n",
      "max      50.810000   10.000000    6.000000\n",
      "IQR      10.780000    1.562500    1.000000\n",
      "\n",
      "=== Categorical Summary ===\n",
      "         sex smoker  day    time\n",
      "unique     2      2    4       2\n",
      "top     Male     No  Sat  Dinner\n",
      "freq     157    151   87     176\n"
     ]
    }
   ],
   "source": [
    "# Load dataset\n",
    "tips = sns.load_dataset('tips')\n",
    "\n",
    "# Tách biến numeric và categorical\n",
    "numeric_cols = tips.select_dtypes(include=['float64', 'int64']).columns\n",
    "categorical_cols = tips.select_dtypes(include=['category', 'object']).columns\n",
    "\n",
    "# Thống kê biến numeric\n",
    "numeric_summary = tips[numeric_cols].agg(['count','mean','median','std','min','max'])\n",
    "numeric_summary.loc['IQR'] = tips[numeric_cols].quantile(0.75) - tips[numeric_cols].quantile(0.25)\n",
    "\n",
    "# Thống kê biến categorical\n",
    "categorical_summary = pd.DataFrame({\n",
    "    col: [tips[col].nunique(), tips[col].mode()[0], tips[col].value_counts().iloc[0]] \n",
    "    for col in categorical_cols\n",
    "}, index=['unique','top','freq'])\n",
    "\n",
    "print(\"=== Numeric Summary ===\")\n",
    "print(numeric_summary)\n",
    "print(\"\\n=== Categorical Summary ===\")\n",
    "print(categorical_summary)"
   ]
  },
  {
   "cell_type": "markdown",
   "metadata": {},
   "source": [
    "c. So sánh tiền tip trung bình theo day và time"
   ]
  },
  {
   "cell_type": "code",
   "execution_count": 44,
   "metadata": {},
   "outputs": [
    {
     "name": "stderr",
     "output_type": "stream",
     "text": [
      "C:\\Users\\thanh\\AppData\\Local\\Temp\\ipykernel_29212\\607852402.py:2: FutureWarning: The default of observed=False is deprecated and will be changed to True in a future version of pandas. Pass observed=False to retain current behavior or observed=True to adopt the future default and silence this warning.\n",
      "  tips.groupby('day')['tip'].mean()\n",
      "C:\\Users\\thanh\\AppData\\Local\\Temp\\ipykernel_29212\\607852402.py:5: FutureWarning: The default of observed=False is deprecated and will be changed to True in a future version of pandas. Pass observed=False to retain current behavior or observed=True to adopt the future default and silence this warning.\n",
      "  tips.groupby('time')['tip'].mean()\n",
      "C:\\Users\\thanh\\AppData\\Local\\Temp\\ipykernel_29212\\607852402.py:8: FutureWarning: The default of observed=False is deprecated and will be changed to True in a future version of pandas. Pass observed=False to retain current behavior or observed=True to adopt the future default and silence this warning.\n",
      "  tips.groupby(['day','time'])['tip'].mean().unstack()\n"
     ]
    },
    {
     "data": {
      "text/html": [
       "<div>\n",
       "<style scoped>\n",
       "    .dataframe tbody tr th:only-of-type {\n",
       "        vertical-align: middle;\n",
       "    }\n",
       "\n",
       "    .dataframe tbody tr th {\n",
       "        vertical-align: top;\n",
       "    }\n",
       "\n",
       "    .dataframe thead th {\n",
       "        text-align: right;\n",
       "    }\n",
       "</style>\n",
       "<table border=\"1\" class=\"dataframe\">\n",
       "  <thead>\n",
       "    <tr style=\"text-align: right;\">\n",
       "      <th>time</th>\n",
       "      <th>Lunch</th>\n",
       "      <th>Dinner</th>\n",
       "    </tr>\n",
       "    <tr>\n",
       "      <th>day</th>\n",
       "      <th></th>\n",
       "      <th></th>\n",
       "    </tr>\n",
       "  </thead>\n",
       "  <tbody>\n",
       "    <tr>\n",
       "      <th>Thur</th>\n",
       "      <td>2.767705</td>\n",
       "      <td>3.000000</td>\n",
       "    </tr>\n",
       "    <tr>\n",
       "      <th>Fri</th>\n",
       "      <td>2.382857</td>\n",
       "      <td>2.940000</td>\n",
       "    </tr>\n",
       "    <tr>\n",
       "      <th>Sat</th>\n",
       "      <td>NaN</td>\n",
       "      <td>2.993103</td>\n",
       "    </tr>\n",
       "    <tr>\n",
       "      <th>Sun</th>\n",
       "      <td>NaN</td>\n",
       "      <td>3.255132</td>\n",
       "    </tr>\n",
       "  </tbody>\n",
       "</table>\n",
       "</div>"
      ],
      "text/plain": [
       "time     Lunch    Dinner\n",
       "day                     \n",
       "Thur  2.767705  3.000000\n",
       "Fri   2.382857  2.940000\n",
       "Sat        NaN  2.993103\n",
       "Sun        NaN  3.255132"
      ]
     },
     "execution_count": 44,
     "metadata": {},
     "output_type": "execute_result"
    }
   ],
   "source": [
    "# Tip trung bình theo ngày\n",
    "tips.groupby('day')['tip'].mean()\n",
    "\n",
    "# Tip trung bình theo thời gian (Lunch/Dinner)\n",
    "tips.groupby('time')['tip'].mean()\n",
    "\n",
    "# Tip trung bình theo day và time kết hợp\n",
    "tips.groupby(['day','time'])['tip'].mean().unstack()\n"
   ]
  },
  {
   "cell_type": "markdown",
   "metadata": {},
   "source": [
    "d. Phân tích mối quan hệ giữa total_bill và tip"
   ]
  },
  {
   "cell_type": "code",
   "execution_count": 45,
   "metadata": {},
   "outputs": [
    {
     "data": {
      "image/png": "[encoded data removed]",
      "text/plain": [
       "<Figure size 640x480 with 1 Axes>"
      ]
     },
     "metadata": {},
     "output_type": "display_data"
    }
   ],
   "source": [
    "# Tính hệ số tương quan\n",
    "tips[['total_bill','tip']].corr()\n",
    "\n",
    "# Scatter plot\n",
    "sns.scatterplot(x='total_bill', y='tip', data=tips)\n",
    "plt.title('Total Bill vs Tip')\n",
    "plt.show()\n"
   ]
  },
  {
   "cell_type": "markdown",
   "metadata": {},
   "source": [
    "e. Histogram của tiền tip"
   ]
  },
  {
   "cell_type": "code",
   "execution_count": 46,
   "metadata": {},
   "outputs": [
    {
     "data": {
      "image/png": "[encoded data removed]",
      "text/plain": [
       "<Figure size 640x480 with 1 Axes>"
      ]
     },
     "metadata": {},
     "output_type": "display_data"
    }
   ],
   "source": [
    "sns.histplot(tips['tip'], bins=15, kde=True)\n",
    "plt.title('Histogram of Tips')\n",
    "plt.xlabel('Tip Amount')\n",
    "plt.ylabel('Frequency')\n",
    "plt.show()\n"
   ]
  },
  {
   "cell_type": "markdown",
   "metadata": {},
   "source": [
    "f. Box plot so sánh tiền tip giữa các ngày"
   ]
  },
  {
   "cell_type": "code",
   "execution_count": 47,
   "metadata": {},
   "outputs": [
    {
     "data": {
      "image/png": "[encoded data removed]",
      "text/plain": [
       "<Figure size 640x480 with 1 Axes>"
      ]
     },
     "metadata": {},
     "output_type": "display_data"
    }
   ],
   "source": [
    "sns.boxplot(x='day', y='tip', data=tips)\n",
    "plt.title('Tip by Day')\n",
    "plt.xlabel('Day')\n",
    "plt.ylabel('Tip Amount')\n",
    "plt.show()\n"
   ]
  },
  {
   "cell_type": "markdown",
   "metadata": {},
   "source": [
    "### 10. A dataset of Seaborn\n",
    "\n",
    "Chọn một dataset bất kỳ từ thư viện Seaborn (ngoài `tips` đã sử dụng ở trên) và thực hiện các bước sau:\n",
    "\n",
    "a. Tìm hiểu thông tin về dataset đã chọn\n",
    "\n",
    "b. Sử dụng kiến thức đã học để phân tích và trình bày các kết quả mà bạn khám phá được từ bộ dữ liệu trên"
   ]
  },
  {
   "cell_type": "code",
   "execution_count": 48,
   "metadata": {},
   "outputs": [],
   "source": [
    "# YOUR CODE HERE\n",
    "import seaborn as sns\n",
    "import pandas as pd\n",
    "import matplotlib.pyplot as plt\n",
    "\n",
    "# Load dataset penguins\n",
    "penguins = sns.load_dataset('penguins')\n"
   ]
  },
  {
   "cell_type": "markdown",
   "metadata": {},
   "source": [
    "a. Tìm hiểu thông tin về dataset"
   ]
  },
  {
   "cell_type": "code",
   "execution_count": 49,
   "metadata": {},
   "outputs": [
    {
     "name": "stdout",
     "output_type": "stream",
     "text": [
      "<class 'pandas.core.frame.DataFrame'>\n",
      "RangeIndex: 344 entries, 0 to 343\n",
      "Data columns (total 7 columns):\n",
      " #   Column             Non-Null Count  Dtype  \n",
      "---  ------             --------------  -----  \n",
      " 0   species            344 non-null    object \n",
      " 1   island             344 non-null    object \n",
      " 2   bill_length_mm     342 non-null    float64\n",
      " 3   bill_depth_mm      342 non-null    float64\n",
      " 4   flipper_length_mm  342 non-null    float64\n",
      " 5   body_mass_g        342 non-null    float64\n",
      " 6   sex                333 non-null    object \n",
      "dtypes: float64(4), object(3)\n",
      "memory usage: 18.9+ KB\n"
     ]
    },
    {
     "data": {
      "text/plain": [
       "species               0\n",
       "island                0\n",
       "bill_length_mm        2\n",
       "bill_depth_mm         2\n",
       "flipper_length_mm     2\n",
       "body_mass_g           2\n",
       "sex                  11\n",
       "dtype: int64"
      ]
     },
     "execution_count": 49,
     "metadata": {},
     "output_type": "execute_result"
    }
   ],
   "source": [
    "# Thông tin tổng quan\n",
    "penguins.info()\n",
    "\n",
    "# Hiển thị 5 dòng đầu\n",
    "penguins.head()\n",
    "\n",
    "# Thống kê cơ bản cho các cột numeric\n",
    "penguins.describe()\n",
    "\n",
    "# Kiểm tra giá trị thiếu\n",
    "penguins.isna().sum()\n"
   ]
  },
  {
   "cell_type": "markdown",
   "metadata": {},
   "source": [
    "b. Phân tích dữ liệu và khám phá kết quả"
   ]
  },
  {
   "cell_type": "markdown",
   "metadata": {},
   "source": [
    "1. Thống kê mô tả các cột numeric"
   ]
  },
  {
   "cell_type": "code",
   "execution_count": 50,
   "metadata": {},
   "outputs": [
    {
     "data": {
      "text/html": [
       "<div>\n",
       "<style scoped>\n",
       "    .dataframe tbody tr th:only-of-type {\n",
       "        vertical-align: middle;\n",
       "    }\n",
       "\n",
       "    .dataframe tbody tr th {\n",
       "        vertical-align: top;\n",
       "    }\n",
       "\n",
       "    .dataframe thead th {\n",
       "        text-align: right;\n",
       "    }\n",
       "</style>\n",
       "<table border=\"1\" class=\"dataframe\">\n",
       "  <thead>\n",
       "    <tr style=\"text-align: right;\">\n",
       "      <th></th>\n",
       "      <th>bill_length_mm</th>\n",
       "      <th>bill_depth_mm</th>\n",
       "      <th>flipper_length_mm</th>\n",
       "      <th>body_mass_g</th>\n",
       "    </tr>\n",
       "  </thead>\n",
       "  <tbody>\n",
       "    <tr>\n",
       "      <th>count</th>\n",
       "      <td>342.000000</td>\n",
       "      <td>342.000000</td>\n",
       "      <td>342.000000</td>\n",
       "      <td>342.000000</td>\n",
       "    </tr>\n",
       "    <tr>\n",
       "      <th>mean</th>\n",
       "      <td>43.921930</td>\n",
       "      <td>17.151170</td>\n",
       "      <td>200.915205</td>\n",
       "      <td>4201.754386</td>\n",
       "    </tr>\n",
       "    <tr>\n",
       "      <th>std</th>\n",
       "      <td>5.459584</td>\n",
       "      <td>1.974793</td>\n",
       "      <td>14.061714</td>\n",
       "      <td>801.954536</td>\n",
       "    </tr>\n",
       "    <tr>\n",
       "      <th>min</th>\n",
       "      <td>32.100000</td>\n",
       "      <td>13.100000</td>\n",
       "      <td>172.000000</td>\n",
       "      <td>2700.000000</td>\n",
       "    </tr>\n",
       "    <tr>\n",
       "      <th>25%</th>\n",
       "      <td>39.225000</td>\n",
       "      <td>15.600000</td>\n",
       "      <td>190.000000</td>\n",
       "      <td>3550.000000</td>\n",
       "    </tr>\n",
       "    <tr>\n",
       "      <th>50%</th>\n",
       "      <td>44.450000</td>\n",
       "      <td>17.300000</td>\n",
       "      <td>197.000000</td>\n",
       "      <td>4050.000000</td>\n",
       "    </tr>\n",
       "    <tr>\n",
       "      <th>75%</th>\n",
       "      <td>48.500000</td>\n",
       "      <td>18.700000</td>\n",
       "      <td>213.000000</td>\n",
       "      <td>4750.000000</td>\n",
       "    </tr>\n",
       "    <tr>\n",
       "      <th>max</th>\n",
       "      <td>59.600000</td>\n",
       "      <td>21.500000</td>\n",
       "      <td>231.000000</td>\n",
       "      <td>6300.000000</td>\n",
       "    </tr>\n",
       "  </tbody>\n",
       "</table>\n",
       "</div>"
      ],
      "text/plain": [
       "       bill_length_mm  bill_depth_mm  flipper_length_mm  body_mass_g\n",
       "count      342.000000     342.000000         342.000000   342.000000\n",
       "mean        43.921930      17.151170         200.915205  4201.754386\n",
       "std          5.459584       1.974793          14.061714   801.954536\n",
       "min         32.100000      13.100000         172.000000  2700.000000\n",
       "25%         39.225000      15.600000         190.000000  3550.000000\n",
       "50%         44.450000      17.300000         197.000000  4050.000000\n",
       "75%         48.500000      18.700000         213.000000  4750.000000\n",
       "max         59.600000      21.500000         231.000000  6300.000000"
      ]
     },
     "execution_count": 50,
     "metadata": {},
     "output_type": "execute_result"
    }
   ],
   "source": [
    "penguins[['bill_length_mm','bill_depth_mm','flipper_length_mm','body_mass_g']].describe()\n"
   ]
  },
  {
   "cell_type": "markdown",
   "metadata": {},
   "source": [
    "2. Số lượng mỗi loài theo đảo"
   ]
  },
  {
   "cell_type": "code",
   "execution_count": 51,
   "metadata": {},
   "outputs": [
    {
     "data": {
      "text/html": [
       "<div>\n",
       "<style scoped>\n",
       "    .dataframe tbody tr th:only-of-type {\n",
       "        vertical-align: middle;\n",
       "    }\n",
       "\n",
       "    .dataframe tbody tr th {\n",
       "        vertical-align: top;\n",
       "    }\n",
       "\n",
       "    .dataframe thead th {\n",
       "        text-align: right;\n",
       "    }\n",
       "</style>\n",
       "<table border=\"1\" class=\"dataframe\">\n",
       "  <thead>\n",
       "    <tr style=\"text-align: right;\">\n",
       "      <th>species</th>\n",
       "      <th>Adelie</th>\n",
       "      <th>Chinstrap</th>\n",
       "      <th>Gentoo</th>\n",
       "    </tr>\n",
       "    <tr>\n",
       "      <th>island</th>\n",
       "      <th></th>\n",
       "      <th></th>\n",
       "      <th></th>\n",
       "    </tr>\n",
       "  </thead>\n",
       "  <tbody>\n",
       "    <tr>\n",
       "      <th>Biscoe</th>\n",
       "      <td>44</td>\n",
       "      <td>0</td>\n",
       "      <td>124</td>\n",
       "    </tr>\n",
       "    <tr>\n",
       "      <th>Dream</th>\n",
       "      <td>56</td>\n",
       "      <td>68</td>\n",
       "      <td>0</td>\n",
       "    </tr>\n",
       "    <tr>\n",
       "      <th>Torgersen</th>\n",
       "      <td>52</td>\n",
       "      <td>0</td>\n",
       "      <td>0</td>\n",
       "    </tr>\n",
       "  </tbody>\n",
       "</table>\n",
       "</div>"
      ],
      "text/plain": [
       "species    Adelie  Chinstrap  Gentoo\n",
       "island                              \n",
       "Biscoe         44          0     124\n",
       "Dream          56         68       0\n",
       "Torgersen      52          0       0"
      ]
     },
     "execution_count": 51,
     "metadata": {},
     "output_type": "execute_result"
    }
   ],
   "source": [
    "penguins.groupby(['island','species']).size().unstack(fill_value=0)\n"
   ]
  },
  {
   "cell_type": "markdown",
   "metadata": {},
   "source": [
    "3. So sánh các chỉ số cơ thể theo loài"
   ]
  },
  {
   "cell_type": "code",
   "execution_count": 52,
   "metadata": {},
   "outputs": [
    {
     "data": {
      "text/html": [
       "<div>\n",
       "<style scoped>\n",
       "    .dataframe tbody tr th:only-of-type {\n",
       "        vertical-align: middle;\n",
       "    }\n",
       "\n",
       "    .dataframe tbody tr th {\n",
       "        vertical-align: top;\n",
       "    }\n",
       "\n",
       "    .dataframe thead th {\n",
       "        text-align: right;\n",
       "    }\n",
       "</style>\n",
       "<table border=\"1\" class=\"dataframe\">\n",
       "  <thead>\n",
       "    <tr style=\"text-align: right;\">\n",
       "      <th></th>\n",
       "      <th>bill_length_mm</th>\n",
       "      <th>bill_depth_mm</th>\n",
       "      <th>flipper_length_mm</th>\n",
       "      <th>body_mass_g</th>\n",
       "    </tr>\n",
       "    <tr>\n",
       "      <th>species</th>\n",
       "      <th></th>\n",
       "      <th></th>\n",
       "      <th></th>\n",
       "      <th></th>\n",
       "    </tr>\n",
       "  </thead>\n",
       "  <tbody>\n",
       "    <tr>\n",
       "      <th>Adelie</th>\n",
       "      <td>38.791391</td>\n",
       "      <td>18.346358</td>\n",
       "      <td>189.953642</td>\n",
       "      <td>3700.662252</td>\n",
       "    </tr>\n",
       "    <tr>\n",
       "      <th>Chinstrap</th>\n",
       "      <td>48.833824</td>\n",
       "      <td>18.420588</td>\n",
       "      <td>195.823529</td>\n",
       "      <td>3733.088235</td>\n",
       "    </tr>\n",
       "    <tr>\n",
       "      <th>Gentoo</th>\n",
       "      <td>47.504878</td>\n",
       "      <td>14.982114</td>\n",
       "      <td>217.186992</td>\n",
       "      <td>5076.016260</td>\n",
       "    </tr>\n",
       "  </tbody>\n",
       "</table>\n",
       "</div>"
      ],
      "text/plain": [
       "           bill_length_mm  bill_depth_mm  flipper_length_mm  body_mass_g\n",
       "species                                                                 \n",
       "Adelie          38.791391      18.346358         189.953642  3700.662252\n",
       "Chinstrap       48.833824      18.420588         195.823529  3733.088235\n",
       "Gentoo          47.504878      14.982114         217.186992  5076.016260"
      ]
     },
     "execution_count": 52,
     "metadata": {},
     "output_type": "execute_result"
    }
   ],
   "source": [
    "penguins.groupby('species')[['bill_length_mm','bill_depth_mm','flipper_length_mm','body_mass_g']].mean()\n"
   ]
  },
  {
   "cell_type": "markdown",
   "metadata": {},
   "source": [
    "4. Trực quan hóa"
   ]
  },
  {
   "cell_type": "code",
   "execution_count": 53,
   "metadata": {},
   "outputs": [
    {
     "data": {
      "image/png": "[encoded data removed]",
      "text/plain": [
       "<Figure size 640x480 with 1 Axes>"
      ]
     },
     "metadata": {},
     "output_type": "display_data"
    },
    {
     "data": {
      "image/png": "[encoded data removed]",
      "text/plain": [
       "<Figure size 640x480 with 1 Axes>"
      ]
     },
     "metadata": {},
     "output_type": "display_data"
    }
   ],
   "source": [
    "# Boxplot khối lượng cơ thể theo loài\n",
    "sns.boxplot(x='species', y='body_mass_g', data=penguins)\n",
    "plt.title(\"Body Mass by Penguin Species\")\n",
    "plt.show()\n",
    "\n",
    "# Scatter plot: chiều dài vs chiều sâu mỏ\n",
    "sns.scatterplot(x='bill_length_mm', y='bill_depth_mm', hue='species', data=penguins)\n",
    "plt.title(\"Bill Dimensions by Species\")\n",
    "plt.show()\n"
   ]
  },
  {
   "cell_type": "markdown",
   "metadata": {},
   "source": [
    "\n",
    "---\n",
    "\n",
    "## CHANGELOG\n",
    "\n",
    "- 20250831: new version\n",
    "- ...\n",
    "\n",
    "---"
   ]
  }
 ],
 "metadata": {
  "colab": {
   "authorship_tag": "ABX9TyOelhBBO7DINQ7b3uUiVhbi",
   "provenance": []
  },
  "kernelspec": {
   "display_name": "base",
   "language": "python",
   "name": "python3"
  },
  "language_info": {
   "codemirror_mode": {
    "name": "ipython",
    "version": 3
   },
   "file_extension": ".py",
   "mimetype": "text/x-python",
   "name": "python",
   "nbconvert_exporter": "python",
   "pygments_lexer": "ipython3",
   "version": "3.12.4"
  }
 },
 "nbformat": 4,
 "nbformat_minor": 0
}
