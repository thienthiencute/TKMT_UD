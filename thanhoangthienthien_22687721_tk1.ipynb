{
 "cells": [
  {
   "cell_type": "code",
   "execution_count": 1,
   "id": "8ea3a149-e5f1-403f-882a-c1d952635e5a",
   "metadata": {},
   "outputs": [
    {
     "name": "stdin",
     "output_type": "stream",
     "text": [
      "Nhap n (n>0):  5\n"
     ]
    },
    {
     "name": "stdout",
     "output_type": "stream",
     "text": [
      "Cac so nguyen to tu 1 den 5 la:\n",
      "2 3 5 "
     ]
    }
   ],
   "source": [
    "import math\n",
    "def is_prime(n):\n",
    "    if n < 2:\n",
    "        return False\n",
    "    for i in range (2,int (math.sqrt(n))+1):\n",
    "        if n % i ==0:\n",
    "            return False\n",
    "    return True\n",
    "n = int(input(\"Nhap n (n>0): \"))\n",
    "\n",
    "print (f\"Cac so nguyen to tu 1 den {n} la:\")\n",
    "for i in range(1,n+1):\n",
    "    if is_prime(i):\n",
    "        print(i,end=\" \")"
   ]
  },
  {
   "cell_type": "code",
   "execution_count": 3,
   "id": "6bf6138a-d257-42ee-971c-4e2bdb6339f7",
   "metadata": {},
   "outputs": [
    {
     "name": "stdout",
     "output_type": "stream",
     "text": [
      "a) Tỷ lệ lỗi chung: 0.0420\n",
      "b) Xác suất một sản phẩm là đạt: 0.9580\n",
      "c) Dây chuyền và chất lượng có độc lập không? Không\n",
      "d) P(cả hai đều đạt: 0.9178\n"
     ]
    }
   ],
   "source": [
    "# YOUR CODE HERE\n",
    "# Dữ liệu đầu vào\n",
    "ty_le_A = 0.7\n",
    "ty_le_B = 0.3\n",
    "loi_A = 0.03\n",
    "loi_B = 0.07\n",
    "\n",
    "# a) Tỷ lệ lỗi chung\n",
    "ty_le_loi_chung = ty_le_A * loi_A + ty_le_B * loi_B\n",
    "print(f\"a) Tỷ lệ lỗi chung: {ty_le_loi_chung:.4f}\")\n",
    "\n",
    "# b) Xác suất một sản phẩm là đạt\n",
    "ty_le_dat_chung = 1 - ty_le_loi_chung\n",
    "print(f\"b) Xác suất một sản phẩm là đạt: {ty_le_dat_chung:.4f}\")\n",
    "\n",
    "# c) Kiểm tra tính độc lập\n",
    "ty_le_dat_A = 1 - loi_A\n",
    "doc_lap = (ty_le_dat_A == ty_le_dat_chung)\n",
    "print(f\"c) Dây chuyền và chất lượng có độc lập không? {'Có' if doc_lap else 'Không'}\")\n",
    "\n",
    "# d) P(cả 2 đều đạt)\n",
    "p_cahai_dat = ty_le_dat_chung ** 2\n",
    "print(f\"d) P(cả hai đều đạt: {p_cahai_dat:.4f}\")"
   ]
  },
  {
   "cell_type": "code",
   "execution_count": null,
   "id": "90658256-df50-4438-bf79-54fde5de26ea",
   "metadata": {},
   "outputs": [],
   "source": []
  }
 ],
 "metadata": {
  "kernelspec": {
   "display_name": "Python 3 (ipykernel)",
   "language": "python",
   "name": "python3"
  },
  "language_info": {
   "codemirror_mode": {
    "name": "ipython",
    "version": 3
   },
   "file_extension": ".py",
   "mimetype": "text/x-python",
   "name": "python",
   "nbconvert_exporter": "python",
   "pygments_lexer": "ipython3",
   "version": "3.12.4"
  }
 },
 "nbformat": 4,
 "nbformat_minor": 5
}
